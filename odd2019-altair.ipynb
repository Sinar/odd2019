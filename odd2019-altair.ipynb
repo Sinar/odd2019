{
 "cells": [
  {
   "cell_type": "code",
   "execution_count": 5,
   "metadata": {},
   "outputs": [],
   "source": [
    "import altair as alt"
   ]
  },
  {
   "cell_type": "code",
   "execution_count": 7,
   "metadata": {},
   "outputs": [],
   "source": [
    "from vega_datasets import data"
   ]
  },
  {
   "cell_type": "code",
   "execution_count": 10,
   "metadata": {},
   "outputs": [],
   "source": [
    "iris = data.iris()"
   ]
  },
  {
   "cell_type": "code",
   "execution_count": 30,
   "metadata": {},
   "outputs": [
    {
     "data": {
      "text/html": [
       "<div>\n",
       "<style scoped>\n",
       "    .dataframe tbody tr th:only-of-type {\n",
       "        vertical-align: middle;\n",
       "    }\n",
       "\n",
       "    .dataframe tbody tr th {\n",
       "        vertical-align: top;\n",
       "    }\n",
       "\n",
       "    .dataframe thead th {\n",
       "        text-align: right;\n",
       "    }\n",
       "</style>\n",
       "<table border=\"1\" class=\"dataframe\">\n",
       "  <thead>\n",
       "    <tr style=\"text-align: right;\">\n",
       "      <th></th>\n",
       "      <th>petalLength</th>\n",
       "      <th>petalWidth</th>\n",
       "      <th>sepalLength</th>\n",
       "      <th>sepalWidth</th>\n",
       "      <th>species</th>\n",
       "    </tr>\n",
       "  </thead>\n",
       "  <tbody>\n",
       "    <tr>\n",
       "      <th>145</th>\n",
       "      <td>5.2</td>\n",
       "      <td>2.3</td>\n",
       "      <td>6.7</td>\n",
       "      <td>3.0</td>\n",
       "      <td>virginica</td>\n",
       "    </tr>\n",
       "    <tr>\n",
       "      <th>146</th>\n",
       "      <td>5.0</td>\n",
       "      <td>1.9</td>\n",
       "      <td>6.3</td>\n",
       "      <td>2.5</td>\n",
       "      <td>virginica</td>\n",
       "    </tr>\n",
       "    <tr>\n",
       "      <th>147</th>\n",
       "      <td>5.2</td>\n",
       "      <td>2.0</td>\n",
       "      <td>6.5</td>\n",
       "      <td>3.0</td>\n",
       "      <td>virginica</td>\n",
       "    </tr>\n",
       "    <tr>\n",
       "      <th>148</th>\n",
       "      <td>5.4</td>\n",
       "      <td>2.3</td>\n",
       "      <td>6.2</td>\n",
       "      <td>3.4</td>\n",
       "      <td>virginica</td>\n",
       "    </tr>\n",
       "    <tr>\n",
       "      <th>149</th>\n",
       "      <td>5.1</td>\n",
       "      <td>1.8</td>\n",
       "      <td>5.9</td>\n",
       "      <td>3.0</td>\n",
       "      <td>virginica</td>\n",
       "    </tr>\n",
       "  </tbody>\n",
       "</table>\n",
       "</div>"
      ],
      "text/plain": [
       "     petalLength  petalWidth  sepalLength  sepalWidth    species\n",
       "145          5.2         2.3          6.7         3.0  virginica\n",
       "146          5.0         1.9          6.3         2.5  virginica\n",
       "147          5.2         2.0          6.5         3.0  virginica\n",
       "148          5.4         2.3          6.2         3.4  virginica\n",
       "149          5.1         1.8          5.9         3.0  virginica"
      ]
     },
     "execution_count": 30,
     "metadata": {},
     "output_type": "execute_result"
    }
   ],
   "source": [
    "iris.tail()"
   ]
  },
  {
   "cell_type": "code",
   "execution_count": 15,
   "metadata": {},
   "outputs": [
    {
     "data": {
      "application/vnd.vegalite.v2+json": {
       "$schema": "https://vega.github.io/schema/vega-lite/v2.6.0.json",
       "config": {
        "view": {
         "height": 300,
         "width": 400
        }
       },
       "data": {
        "name": "data-a264acbd6e539a8b3afc0cb5f240fb57"
       },
       "datasets": {
        "data-a264acbd6e539a8b3afc0cb5f240fb57": [
         {
          "petalLength": 1.4,
          "petalWidth": 0.2,
          "sepalLength": 5.1,
          "sepalWidth": 3.5,
          "species": "setosa"
         },
         {
          "petalLength": 1.4,
          "petalWidth": 0.2,
          "sepalLength": 4.9,
          "sepalWidth": 3,
          "species": "setosa"
         },
         {
          "petalLength": 1.3,
          "petalWidth": 0.2,
          "sepalLength": 4.7,
          "sepalWidth": 3.2,
          "species": "setosa"
         },
         {
          "petalLength": 1.5,
          "petalWidth": 0.2,
          "sepalLength": 4.6,
          "sepalWidth": 3.1,
          "species": "setosa"
         },
         {
          "petalLength": 1.4,
          "petalWidth": 0.2,
          "sepalLength": 5,
          "sepalWidth": 3.6,
          "species": "setosa"
         },
         {
          "petalLength": 1.7000000000000002,
          "petalWidth": 0.4,
          "sepalLength": 5.4,
          "sepalWidth": 3.9,
          "species": "setosa"
         },
         {
          "petalLength": 1.4,
          "petalWidth": 0.30000000000000004,
          "sepalLength": 4.6,
          "sepalWidth": 3.4,
          "species": "setosa"
         },
         {
          "petalLength": 1.5,
          "petalWidth": 0.2,
          "sepalLength": 5,
          "sepalWidth": 3.4,
          "species": "setosa"
         },
         {
          "petalLength": 1.4,
          "petalWidth": 0.2,
          "sepalLength": 4.4,
          "sepalWidth": 2.9,
          "species": "setosa"
         },
         {
          "petalLength": 1.5,
          "petalWidth": 0.1,
          "sepalLength": 4.9,
          "sepalWidth": 3.1,
          "species": "setosa"
         },
         {
          "petalLength": 1.5,
          "petalWidth": 0.2,
          "sepalLength": 5.4,
          "sepalWidth": 3.7,
          "species": "setosa"
         },
         {
          "petalLength": 1.6,
          "petalWidth": 0.2,
          "sepalLength": 4.8,
          "sepalWidth": 3.4,
          "species": "setosa"
         },
         {
          "petalLength": 1.4,
          "petalWidth": 0.1,
          "sepalLength": 4.8,
          "sepalWidth": 3,
          "species": "setosa"
         },
         {
          "petalLength": 1.1,
          "petalWidth": 0.1,
          "sepalLength": 4.3,
          "sepalWidth": 3,
          "species": "setosa"
         },
         {
          "petalLength": 1.2,
          "petalWidth": 0.2,
          "sepalLength": 5.8,
          "sepalWidth": 4,
          "species": "setosa"
         },
         {
          "petalLength": 1.5,
          "petalWidth": 0.4,
          "sepalLength": 5.7,
          "sepalWidth": 4.4,
          "species": "setosa"
         },
         {
          "petalLength": 1.3,
          "petalWidth": 0.4,
          "sepalLength": 5.4,
          "sepalWidth": 3.9,
          "species": "setosa"
         },
         {
          "petalLength": 1.4,
          "petalWidth": 0.30000000000000004,
          "sepalLength": 5.1,
          "sepalWidth": 3.5,
          "species": "setosa"
         },
         {
          "petalLength": 1.7000000000000002,
          "petalWidth": 0.30000000000000004,
          "sepalLength": 5.7,
          "sepalWidth": 3.8,
          "species": "setosa"
         },
         {
          "petalLength": 1.5,
          "petalWidth": 0.30000000000000004,
          "sepalLength": 5.1,
          "sepalWidth": 3.8,
          "species": "setosa"
         },
         {
          "petalLength": 1.7000000000000002,
          "petalWidth": 0.2,
          "sepalLength": 5.4,
          "sepalWidth": 3.4,
          "species": "setosa"
         },
         {
          "petalLength": 1.5,
          "petalWidth": 0.4,
          "sepalLength": 5.1,
          "sepalWidth": 3.7,
          "species": "setosa"
         },
         {
          "petalLength": 1,
          "petalWidth": 0.2,
          "sepalLength": 4.6,
          "sepalWidth": 3.6,
          "species": "setosa"
         },
         {
          "petalLength": 1.7000000000000002,
          "petalWidth": 0.5,
          "sepalLength": 5.1,
          "sepalWidth": 3.3,
          "species": "setosa"
         },
         {
          "petalLength": 1.9,
          "petalWidth": 0.2,
          "sepalLength": 4.8,
          "sepalWidth": 3.4,
          "species": "setosa"
         },
         {
          "petalLength": 1.6,
          "petalWidth": 0.2,
          "sepalLength": 5,
          "sepalWidth": 3,
          "species": "setosa"
         },
         {
          "petalLength": 1.6,
          "petalWidth": 0.4,
          "sepalLength": 5,
          "sepalWidth": 3.4,
          "species": "setosa"
         },
         {
          "petalLength": 1.5,
          "petalWidth": 0.2,
          "sepalLength": 5.2,
          "sepalWidth": 3.5,
          "species": "setosa"
         },
         {
          "petalLength": 1.4,
          "petalWidth": 0.2,
          "sepalLength": 5.2,
          "sepalWidth": 3.4,
          "species": "setosa"
         },
         {
          "petalLength": 1.6,
          "petalWidth": 0.2,
          "sepalLength": 4.7,
          "sepalWidth": 3.2,
          "species": "setosa"
         },
         {
          "petalLength": 1.6,
          "petalWidth": 0.2,
          "sepalLength": 4.8,
          "sepalWidth": 3.1,
          "species": "setosa"
         },
         {
          "petalLength": 1.5,
          "petalWidth": 0.4,
          "sepalLength": 5.4,
          "sepalWidth": 3.4,
          "species": "setosa"
         },
         {
          "petalLength": 1.5,
          "petalWidth": 0.1,
          "sepalLength": 5.2,
          "sepalWidth": 4.1,
          "species": "setosa"
         },
         {
          "petalLength": 1.4,
          "petalWidth": 0.2,
          "sepalLength": 5.5,
          "sepalWidth": 4.2,
          "species": "setosa"
         },
         {
          "petalLength": 1.5,
          "petalWidth": 0.2,
          "sepalLength": 4.9,
          "sepalWidth": 3.1,
          "species": "setosa"
         },
         {
          "petalLength": 1.2,
          "petalWidth": 0.2,
          "sepalLength": 5,
          "sepalWidth": 3.2,
          "species": "setosa"
         },
         {
          "petalLength": 1.3,
          "petalWidth": 0.2,
          "sepalLength": 5.5,
          "sepalWidth": 3.5,
          "species": "setosa"
         },
         {
          "petalLength": 1.4,
          "petalWidth": 0.1,
          "sepalLength": 4.9,
          "sepalWidth": 3.6,
          "species": "setosa"
         },
         {
          "petalLength": 1.3,
          "petalWidth": 0.2,
          "sepalLength": 4.4,
          "sepalWidth": 3,
          "species": "setosa"
         },
         {
          "petalLength": 1.5,
          "petalWidth": 0.2,
          "sepalLength": 5.1,
          "sepalWidth": 3.4,
          "species": "setosa"
         },
         {
          "petalLength": 1.3,
          "petalWidth": 0.30000000000000004,
          "sepalLength": 5,
          "sepalWidth": 3.5,
          "species": "setosa"
         },
         {
          "petalLength": 1.3,
          "petalWidth": 0.30000000000000004,
          "sepalLength": 4.5,
          "sepalWidth": 2.3,
          "species": "setosa"
         },
         {
          "petalLength": 1.3,
          "petalWidth": 0.2,
          "sepalLength": 4.4,
          "sepalWidth": 3.2,
          "species": "setosa"
         },
         {
          "petalLength": 1.6,
          "petalWidth": 0.6000000000000001,
          "sepalLength": 5,
          "sepalWidth": 3.5,
          "species": "setosa"
         },
         {
          "petalLength": 1.9,
          "petalWidth": 0.4,
          "sepalLength": 5.1,
          "sepalWidth": 3.8,
          "species": "setosa"
         },
         {
          "petalLength": 1.4,
          "petalWidth": 0.30000000000000004,
          "sepalLength": 4.8,
          "sepalWidth": 3,
          "species": "setosa"
         },
         {
          "petalLength": 1.6,
          "petalWidth": 0.2,
          "sepalLength": 5.1,
          "sepalWidth": 3.8,
          "species": "setosa"
         },
         {
          "petalLength": 1.4,
          "petalWidth": 0.2,
          "sepalLength": 4.6,
          "sepalWidth": 3.2,
          "species": "setosa"
         },
         {
          "petalLength": 1.5,
          "petalWidth": 0.2,
          "sepalLength": 5.3,
          "sepalWidth": 3.7,
          "species": "setosa"
         },
         {
          "petalLength": 1.4,
          "petalWidth": 0.2,
          "sepalLength": 5,
          "sepalWidth": 3.3,
          "species": "setosa"
         },
         {
          "petalLength": 4.7,
          "petalWidth": 1.4,
          "sepalLength": 7,
          "sepalWidth": 3.2,
          "species": "versicolor"
         },
         {
          "petalLength": 4.5,
          "petalWidth": 1.5,
          "sepalLength": 6.4,
          "sepalWidth": 3.2,
          "species": "versicolor"
         },
         {
          "petalLength": 4.9,
          "petalWidth": 1.5,
          "sepalLength": 6.9,
          "sepalWidth": 3.1,
          "species": "versicolor"
         },
         {
          "petalLength": 4,
          "petalWidth": 1.3,
          "sepalLength": 5.5,
          "sepalWidth": 2.3,
          "species": "versicolor"
         },
         {
          "petalLength": 4.6,
          "petalWidth": 1.5,
          "sepalLength": 6.5,
          "sepalWidth": 2.8,
          "species": "versicolor"
         },
         {
          "petalLength": 4.5,
          "petalWidth": 1.3,
          "sepalLength": 5.7,
          "sepalWidth": 2.8,
          "species": "versicolor"
         },
         {
          "petalLength": 4.7,
          "petalWidth": 1.6,
          "sepalLength": 6.3,
          "sepalWidth": 3.3,
          "species": "versicolor"
         },
         {
          "petalLength": 3.3,
          "petalWidth": 1,
          "sepalLength": 4.9,
          "sepalWidth": 2.4,
          "species": "versicolor"
         },
         {
          "petalLength": 4.6,
          "petalWidth": 1.3,
          "sepalLength": 6.6,
          "sepalWidth": 2.9,
          "species": "versicolor"
         },
         {
          "petalLength": 3.9,
          "petalWidth": 1.4,
          "sepalLength": 5.2,
          "sepalWidth": 2.7,
          "species": "versicolor"
         },
         {
          "petalLength": 3.5,
          "petalWidth": 1,
          "sepalLength": 5,
          "sepalWidth": 2,
          "species": "versicolor"
         },
         {
          "petalLength": 4.2,
          "petalWidth": 1.5,
          "sepalLength": 5.9,
          "sepalWidth": 3,
          "species": "versicolor"
         },
         {
          "petalLength": 4,
          "petalWidth": 1,
          "sepalLength": 6,
          "sepalWidth": 2.2,
          "species": "versicolor"
         },
         {
          "petalLength": 4.7,
          "petalWidth": 1.4,
          "sepalLength": 6.1,
          "sepalWidth": 2.9,
          "species": "versicolor"
         },
         {
          "petalLength": 3.6,
          "petalWidth": 1.3,
          "sepalLength": 5.6,
          "sepalWidth": 2.9,
          "species": "versicolor"
         },
         {
          "petalLength": 4.4,
          "petalWidth": 1.4,
          "sepalLength": 6.7,
          "sepalWidth": 3.1,
          "species": "versicolor"
         },
         {
          "petalLength": 4.5,
          "petalWidth": 1.5,
          "sepalLength": 5.6,
          "sepalWidth": 3,
          "species": "versicolor"
         },
         {
          "petalLength": 4.1,
          "petalWidth": 1,
          "sepalLength": 5.8,
          "sepalWidth": 2.7,
          "species": "versicolor"
         },
         {
          "petalLength": 4.5,
          "petalWidth": 1.5,
          "sepalLength": 6.2,
          "sepalWidth": 2.2,
          "species": "versicolor"
         },
         {
          "petalLength": 3.9,
          "petalWidth": 1.1,
          "sepalLength": 5.6,
          "sepalWidth": 2.5,
          "species": "versicolor"
         },
         {
          "petalLength": 4.8,
          "petalWidth": 1.8,
          "sepalLength": 5.9,
          "sepalWidth": 3.2,
          "species": "versicolor"
         },
         {
          "petalLength": 4,
          "petalWidth": 1.3,
          "sepalLength": 6.1,
          "sepalWidth": 2.8,
          "species": "versicolor"
         },
         {
          "petalLength": 4.9,
          "petalWidth": 1.5,
          "sepalLength": 6.3,
          "sepalWidth": 2.5,
          "species": "versicolor"
         },
         {
          "petalLength": 4.7,
          "petalWidth": 1.2,
          "sepalLength": 6.1,
          "sepalWidth": 2.8,
          "species": "versicolor"
         },
         {
          "petalLength": 4.3,
          "petalWidth": 1.3,
          "sepalLength": 6.4,
          "sepalWidth": 2.9,
          "species": "versicolor"
         },
         {
          "petalLength": 4.4,
          "petalWidth": 1.4,
          "sepalLength": 6.6,
          "sepalWidth": 3,
          "species": "versicolor"
         },
         {
          "petalLength": 4.8,
          "petalWidth": 1.4,
          "sepalLength": 6.8,
          "sepalWidth": 2.8,
          "species": "versicolor"
         },
         {
          "petalLength": 5,
          "petalWidth": 1.7000000000000002,
          "sepalLength": 6.7,
          "sepalWidth": 3,
          "species": "versicolor"
         },
         {
          "petalLength": 4.5,
          "petalWidth": 1.5,
          "sepalLength": 6,
          "sepalWidth": 2.9,
          "species": "versicolor"
         },
         {
          "petalLength": 3.5,
          "petalWidth": 1,
          "sepalLength": 5.7,
          "sepalWidth": 2.6,
          "species": "versicolor"
         },
         {
          "petalLength": 3.8,
          "petalWidth": 1.1,
          "sepalLength": 5.5,
          "sepalWidth": 2.4,
          "species": "versicolor"
         },
         {
          "petalLength": 3.7,
          "petalWidth": 1,
          "sepalLength": 5.5,
          "sepalWidth": 2.4,
          "species": "versicolor"
         },
         {
          "petalLength": 3.9,
          "petalWidth": 1.2,
          "sepalLength": 5.8,
          "sepalWidth": 2.7,
          "species": "versicolor"
         },
         {
          "petalLength": 5.1,
          "petalWidth": 1.6,
          "sepalLength": 6,
          "sepalWidth": 2.7,
          "species": "versicolor"
         },
         {
          "petalLength": 4.5,
          "petalWidth": 1.5,
          "sepalLength": 5.4,
          "sepalWidth": 3,
          "species": "versicolor"
         },
         {
          "petalLength": 4.5,
          "petalWidth": 1.6,
          "sepalLength": 6,
          "sepalWidth": 3.4,
          "species": "versicolor"
         },
         {
          "petalLength": 4.7,
          "petalWidth": 1.5,
          "sepalLength": 6.7,
          "sepalWidth": 3.1,
          "species": "versicolor"
         },
         {
          "petalLength": 4.4,
          "petalWidth": 1.3,
          "sepalLength": 6.3,
          "sepalWidth": 2.3,
          "species": "versicolor"
         },
         {
          "petalLength": 4.1,
          "petalWidth": 1.3,
          "sepalLength": 5.6,
          "sepalWidth": 3,
          "species": "versicolor"
         },
         {
          "petalLength": 4,
          "petalWidth": 1.3,
          "sepalLength": 5.5,
          "sepalWidth": 2.5,
          "species": "versicolor"
         },
         {
          "petalLength": 4.4,
          "petalWidth": 1.2,
          "sepalLength": 5.5,
          "sepalWidth": 2.6,
          "species": "versicolor"
         },
         {
          "petalLength": 4.6,
          "petalWidth": 1.4,
          "sepalLength": 6.1,
          "sepalWidth": 3,
          "species": "versicolor"
         },
         {
          "petalLength": 4,
          "petalWidth": 1.2,
          "sepalLength": 5.8,
          "sepalWidth": 2.6,
          "species": "versicolor"
         },
         {
          "petalLength": 3.3,
          "petalWidth": 1,
          "sepalLength": 5,
          "sepalWidth": 2.3,
          "species": "versicolor"
         },
         {
          "petalLength": 4.2,
          "petalWidth": 1.3,
          "sepalLength": 5.6,
          "sepalWidth": 2.7,
          "species": "versicolor"
         },
         {
          "petalLength": 4.2,
          "petalWidth": 1.2,
          "sepalLength": 5.7,
          "sepalWidth": 3,
          "species": "versicolor"
         },
         {
          "petalLength": 4.2,
          "petalWidth": 1.3,
          "sepalLength": 5.7,
          "sepalWidth": 2.9,
          "species": "versicolor"
         },
         {
          "petalLength": 4.3,
          "petalWidth": 1.3,
          "sepalLength": 6.2,
          "sepalWidth": 2.9,
          "species": "versicolor"
         },
         {
          "petalLength": 3,
          "petalWidth": 1.1,
          "sepalLength": 5.1,
          "sepalWidth": 2.5,
          "species": "versicolor"
         },
         {
          "petalLength": 4.1,
          "petalWidth": 1.3,
          "sepalLength": 5.7,
          "sepalWidth": 2.8,
          "species": "versicolor"
         },
         {
          "petalLength": 6,
          "petalWidth": 2.5,
          "sepalLength": 6.3,
          "sepalWidth": 3.3,
          "species": "virginica"
         },
         {
          "petalLength": 5.1,
          "petalWidth": 1.9,
          "sepalLength": 5.8,
          "sepalWidth": 2.7,
          "species": "virginica"
         },
         {
          "petalLength": 5.9,
          "petalWidth": 2.1,
          "sepalLength": 7.1,
          "sepalWidth": 3,
          "species": "virginica"
         },
         {
          "petalLength": 5.6,
          "petalWidth": 1.8,
          "sepalLength": 6.3,
          "sepalWidth": 2.9,
          "species": "virginica"
         },
         {
          "petalLength": 5.8,
          "petalWidth": 2.2,
          "sepalLength": 6.5,
          "sepalWidth": 3,
          "species": "virginica"
         },
         {
          "petalLength": 6.6,
          "petalWidth": 2.1,
          "sepalLength": 7.6,
          "sepalWidth": 3,
          "species": "virginica"
         },
         {
          "petalLength": 4.5,
          "petalWidth": 1.7000000000000002,
          "sepalLength": 4.9,
          "sepalWidth": 2.5,
          "species": "virginica"
         },
         {
          "petalLength": 6.3,
          "petalWidth": 1.8,
          "sepalLength": 7.3,
          "sepalWidth": 2.9,
          "species": "virginica"
         },
         {
          "petalLength": 5.8,
          "petalWidth": 1.8,
          "sepalLength": 6.7,
          "sepalWidth": 2.5,
          "species": "virginica"
         },
         {
          "petalLength": 6.1,
          "petalWidth": 2.5,
          "sepalLength": 7.2,
          "sepalWidth": 3.6,
          "species": "virginica"
         },
         {
          "petalLength": 5.1,
          "petalWidth": 2,
          "sepalLength": 6.5,
          "sepalWidth": 3.2,
          "species": "virginica"
         },
         {
          "petalLength": 5.3,
          "petalWidth": 1.9,
          "sepalLength": 6.4,
          "sepalWidth": 2.7,
          "species": "virginica"
         },
         {
          "petalLength": 5.5,
          "petalWidth": 2.1,
          "sepalLength": 6.8,
          "sepalWidth": 3,
          "species": "virginica"
         },
         {
          "petalLength": 5,
          "petalWidth": 2,
          "sepalLength": 5.7,
          "sepalWidth": 2.5,
          "species": "virginica"
         },
         {
          "petalLength": 5.1,
          "petalWidth": 2.4,
          "sepalLength": 5.8,
          "sepalWidth": 2.8,
          "species": "virginica"
         },
         {
          "petalLength": 5.3,
          "petalWidth": 2.3,
          "sepalLength": 6.4,
          "sepalWidth": 3.2,
          "species": "virginica"
         },
         {
          "petalLength": 5.5,
          "petalWidth": 1.8,
          "sepalLength": 6.5,
          "sepalWidth": 3,
          "species": "virginica"
         },
         {
          "petalLength": 6.7,
          "petalWidth": 2.2,
          "sepalLength": 7.7,
          "sepalWidth": 3.8,
          "species": "virginica"
         },
         {
          "petalLength": 6.9,
          "petalWidth": 2.3,
          "sepalLength": 7.7,
          "sepalWidth": 2.6,
          "species": "virginica"
         },
         {
          "petalLength": 5,
          "petalWidth": 1.5,
          "sepalLength": 6,
          "sepalWidth": 2.2,
          "species": "virginica"
         },
         {
          "petalLength": 5.7,
          "petalWidth": 2.3,
          "sepalLength": 6.9,
          "sepalWidth": 3.2,
          "species": "virginica"
         },
         {
          "petalLength": 4.9,
          "petalWidth": 2,
          "sepalLength": 5.6,
          "sepalWidth": 2.8,
          "species": "virginica"
         },
         {
          "petalLength": 6.7,
          "petalWidth": 2,
          "sepalLength": 7.7,
          "sepalWidth": 2.8,
          "species": "virginica"
         },
         {
          "petalLength": 4.9,
          "petalWidth": 1.8,
          "sepalLength": 6.3,
          "sepalWidth": 2.7,
          "species": "virginica"
         },
         {
          "petalLength": 5.7,
          "petalWidth": 2.1,
          "sepalLength": 6.7,
          "sepalWidth": 3.3,
          "species": "virginica"
         },
         {
          "petalLength": 6,
          "petalWidth": 1.8,
          "sepalLength": 7.2,
          "sepalWidth": 3.2,
          "species": "virginica"
         },
         {
          "petalLength": 4.8,
          "petalWidth": 1.8,
          "sepalLength": 6.2,
          "sepalWidth": 2.8,
          "species": "virginica"
         },
         {
          "petalLength": 4.9,
          "petalWidth": 1.8,
          "sepalLength": 6.1,
          "sepalWidth": 3,
          "species": "virginica"
         },
         {
          "petalLength": 5.6,
          "petalWidth": 2.1,
          "sepalLength": 6.4,
          "sepalWidth": 2.8,
          "species": "virginica"
         },
         {
          "petalLength": 5.8,
          "petalWidth": 1.6,
          "sepalLength": 7.2,
          "sepalWidth": 3,
          "species": "virginica"
         },
         {
          "petalLength": 6.1,
          "petalWidth": 1.9,
          "sepalLength": 7.4,
          "sepalWidth": 2.8,
          "species": "virginica"
         },
         {
          "petalLength": 6.4,
          "petalWidth": 2,
          "sepalLength": 7.9,
          "sepalWidth": 3.8,
          "species": "virginica"
         },
         {
          "petalLength": 5.6,
          "petalWidth": 2.2,
          "sepalLength": 6.4,
          "sepalWidth": 2.8,
          "species": "virginica"
         },
         {
          "petalLength": 5.1,
          "petalWidth": 1.5,
          "sepalLength": 6.3,
          "sepalWidth": 2.8,
          "species": "virginica"
         },
         {
          "petalLength": 5.6,
          "petalWidth": 1.4,
          "sepalLength": 6.1,
          "sepalWidth": 2.6,
          "species": "virginica"
         },
         {
          "petalLength": 6.1,
          "petalWidth": 2.3,
          "sepalLength": 7.7,
          "sepalWidth": 3,
          "species": "virginica"
         },
         {
          "petalLength": 5.6,
          "petalWidth": 2.4,
          "sepalLength": 6.3,
          "sepalWidth": 3.4,
          "species": "virginica"
         },
         {
          "petalLength": 5.5,
          "petalWidth": 1.8,
          "sepalLength": 6.4,
          "sepalWidth": 3.1,
          "species": "virginica"
         },
         {
          "petalLength": 4.8,
          "petalWidth": 1.8,
          "sepalLength": 6,
          "sepalWidth": 3,
          "species": "virginica"
         },
         {
          "petalLength": 5.4,
          "petalWidth": 2.1,
          "sepalLength": 6.9,
          "sepalWidth": 3.1,
          "species": "virginica"
         },
         {
          "petalLength": 5.6,
          "petalWidth": 2.4,
          "sepalLength": 6.7,
          "sepalWidth": 3.1,
          "species": "virginica"
         },
         {
          "petalLength": 5.1,
          "petalWidth": 2.3,
          "sepalLength": 6.9,
          "sepalWidth": 3.1,
          "species": "virginica"
         },
         {
          "petalLength": 5.1,
          "petalWidth": 1.9,
          "sepalLength": 5.8,
          "sepalWidth": 2.7,
          "species": "virginica"
         },
         {
          "petalLength": 5.9,
          "petalWidth": 2.3,
          "sepalLength": 6.8,
          "sepalWidth": 3.2,
          "species": "virginica"
         },
         {
          "petalLength": 5.7,
          "petalWidth": 2.5,
          "sepalLength": 6.7,
          "sepalWidth": 3.3,
          "species": "virginica"
         },
         {
          "petalLength": 5.2,
          "petalWidth": 2.3,
          "sepalLength": 6.7,
          "sepalWidth": 3,
          "species": "virginica"
         },
         {
          "petalLength": 5,
          "petalWidth": 1.9,
          "sepalLength": 6.3,
          "sepalWidth": 2.5,
          "species": "virginica"
         },
         {
          "petalLength": 5.2,
          "petalWidth": 2,
          "sepalLength": 6.5,
          "sepalWidth": 3,
          "species": "virginica"
         },
         {
          "petalLength": 5.4,
          "petalWidth": 2.3,
          "sepalLength": 6.2,
          "sepalWidth": 3.4,
          "species": "virginica"
         },
         {
          "petalLength": 5.1,
          "petalWidth": 1.8,
          "sepalLength": 5.9,
          "sepalWidth": 3,
          "species": "virginica"
         }
        ]
       },
       "encoding": {
        "color": {
         "field": "species",
         "type": "nominal"
        },
        "x": {
         "field": "petalLength",
         "type": "quantitative"
        },
        "y": {
         "field": "petalWidth",
         "type": "quantitative"
        }
       },
       "mark": "point"
      },
      "image/png": "[encoded data removed]",
      "text/plain": [
       "<VegaLite 2 object>\n",
       "\n",
       "If you see this message, it means the renderer has not been properly enabled\n",
       "for the frontend that you are using. For more information, see\n",
       "https://altair-viz.github.io/user_guide/troubleshooting.html\n"
      ]
     },
     "execution_count": 15,
     "metadata": {},
     "output_type": "execute_result"
    }
   ],
   "source": [
    "alt.Chart(iris).mark_point().encode(\n",
    "    x='petalLength',\n",
    "    y='petalWidth',\n",
    "    color='species'\n",
    ")"
   ]
  },
  {
   "cell_type": "code",
   "execution_count": 19,
   "metadata": {},
   "outputs": [
    {
     "data": {
      "text/plain": [
       "['7zip',\n",
       " 'airports',\n",
       " 'anscombe',\n",
       " 'barley',\n",
       " 'birdstrikes',\n",
       " 'budget',\n",
       " 'budgets',\n",
       " 'burtin',\n",
       " 'cars',\n",
       " 'climate',\n",
       " 'co2-concentration',\n",
       " 'countries',\n",
       " 'crimea',\n",
       " 'disasters',\n",
       " 'driving',\n",
       " 'earthquakes',\n",
       " 'ffox',\n",
       " 'flare',\n",
       " 'flare-dependencies',\n",
       " 'flights-10k',\n",
       " 'flights-200k',\n",
       " 'flights-20k',\n",
       " 'flights-2k',\n",
       " 'flights-3m',\n",
       " 'flights-5k',\n",
       " 'flights-airport',\n",
       " 'gapminder',\n",
       " 'gapminder-health-income',\n",
       " 'gimp',\n",
       " 'github',\n",
       " 'graticule',\n",
       " 'income',\n",
       " 'iowa-electricity',\n",
       " 'iris',\n",
       " 'jobs',\n",
       " 'la-riots',\n",
       " 'londonBoroughs',\n",
       " 'londonCentroids',\n",
       " 'londonTubeLines',\n",
       " 'lookup_groups',\n",
       " 'lookup_people',\n",
       " 'miserables',\n",
       " 'monarchs',\n",
       " 'movies',\n",
       " 'normal-2d',\n",
       " 'obesity',\n",
       " 'points',\n",
       " 'population',\n",
       " 'population_engineers_hurricanes',\n",
       " 'seattle-temps',\n",
       " 'seattle-weather',\n",
       " 'sf-temps',\n",
       " 'sp500',\n",
       " 'stocks',\n",
       " 'udistrict',\n",
       " 'unemployment',\n",
       " 'unemployment-across-industries',\n",
       " 'us-10m',\n",
       " 'us-employment',\n",
       " 'us-state-capitals',\n",
       " 'weather',\n",
       " 'weball26',\n",
       " 'wheat',\n",
       " 'world-110m',\n",
       " 'zipcodes']"
      ]
     },
     "execution_count": 19,
     "metadata": {},
     "output_type": "execute_result"
    }
   ],
   "source": [
    "data.list_datasets()"
   ]
  },
  {
   "cell_type": "code",
   "execution_count": 22,
   "metadata": {},
   "outputs": [],
   "source": [
    "from pandas_datapackage_reader import read_datapackage"
   ]
  },
  {
   "cell_type": "code",
   "execution_count": 23,
   "metadata": {},
   "outputs": [],
   "source": [
    "proj = read_datapackage(\"./workspace/2-package-csv/projek-terbengkelai-digulung-tahun-2017\")"
   ]
  },
  {
   "cell_type": "code",
   "execution_count": 38,
   "metadata": {},
   "outputs": [
    {
     "data": {
      "text/plain": [
       "{'profile': 'tabular-data-resource',\n",
       " 'encoding': 'utf-8',\n",
       " 'schema': {'fields': [{'name': 'Bil', 'type': 'integer', 'format': 'default'},\n",
       "   {'name': 'NEGERI', 'type': 'string', 'format': 'default'},\n",
       "   {'name': 'PROJEK', 'type': 'string', 'format': 'default'},\n",
       "   {'name': 'PEMAJU / PELIKUIDASI', 'type': 'string', 'format': 'default'},\n",
       "   {'name': 'BIL. UNIT\\n DIBINA', 'type': 'integer', 'format': 'default'},\n",
       "   {'name': 'BIL. UNIT DIJUAL', 'type': 'integer', 'format': 'default'},\n",
       "   {'name': 'TARIKH SEPATUT SIAP', 'type': 'string', 'format': 'default'},\n",
       "   {'name': 'TARIKH TERBENGKALAI', 'type': 'string', 'format': 'default'}],\n",
       "  'missingValues': ['']},\n",
       " 'format': 'csv',\n",
       " 'mediatype': 'text/csv',\n",
       " 'dialect': {'caseSensitiveHeader': False,\n",
       "  'delimiter': ',',\n",
       "  'doubleQuote': True,\n",
       "  'header': True,\n",
       "  'lineTerminator': '\\r\\n',\n",
       "  'quoteChar': '\"',\n",
       "  'skipInitialSpace': True},\n",
       " 'licenses': [{'name': 'CC-BY-4.0',\n",
       "   'title': 'Creative Commons Attribution 4.0',\n",
       "   'path': 'https://creativecommons.org/licenses/by/4.0/'}],\n",
       " 'name': 'digulung0tahun-2017',\n",
       " 'path': 'data/digulung-tahun-2017.csv'}"
      ]
     },
     "execution_count": 38,
     "metadata": {},
     "output_type": "execute_result"
    }
   ],
   "source": [
    "proj._metadata"
   ]
  },
  {
   "cell_type": "code",
   "execution_count": 34,
   "metadata": {},
   "outputs": [
    {
     "data": {
      "text/html": [
       "<div>\n",
       "<style scoped>\n",
       "    .dataframe tbody tr th:only-of-type {\n",
       "        vertical-align: middle;\n",
       "    }\n",
       "\n",
       "    .dataframe tbody tr th {\n",
       "        vertical-align: top;\n",
       "    }\n",
       "\n",
       "    .dataframe thead th {\n",
       "        text-align: right;\n",
       "    }\n",
       "</style>\n",
       "<table border=\"1\" class=\"dataframe\">\n",
       "  <thead>\n",
       "    <tr style=\"text-align: right;\">\n",
       "      <th></th>\n",
       "      <th>Bil</th>\n",
       "      <th>NEGERI</th>\n",
       "      <th>PROJEK</th>\n",
       "      <th>PEMAJU</th>\n",
       "      <th>BIL_DIBINA</th>\n",
       "      <th>BIL_DIJUAL</th>\n",
       "      <th>TARIKH_SEPATUT_SIAP</th>\n",
       "      <th>TARIKH_TERBENGKALAI</th>\n",
       "    </tr>\n",
       "  </thead>\n",
       "  <tbody>\n",
       "    <tr>\n",
       "      <th>0</th>\n",
       "      <td>1</td>\n",
       "      <td>Johor</td>\n",
       "      <td>Taman Mewah Jaya,Plentong</td>\n",
       "      <td>Kong Sun Construction Sdn Bhd</td>\n",
       "      <td>199</td>\n",
       "      <td>163</td>\n",
       "      <td>2005</td>\n",
       "      <td>31.12.2005</td>\n",
       "    </tr>\n",
       "    <tr>\n",
       "      <th>1</th>\n",
       "      <td>2</td>\n",
       "      <td>Johor</td>\n",
       "      <td>Taman Tunku Abdul Rahman, Segamat.</td>\n",
       "      <td>Vital Landscape Sdn Bhd                       ...</td>\n",
       "      <td>90</td>\n",
       "      <td>63</td>\n",
       "      <td>2005</td>\n",
       "      <td>16.3.2012</td>\n",
       "    </tr>\n",
       "    <tr>\n",
       "      <th>2</th>\n",
       "      <td>3</td>\n",
       "      <td>Johor</td>\n",
       "      <td>Taman Cahaya Perserai, Batu Pahat.</td>\n",
       "      <td>Kitaremas Development Sdn Bhd (digulung : 20/1...</td>\n",
       "      <td>22</td>\n",
       "      <td>6</td>\n",
       "      <td>21.1.2011</td>\n",
       "      <td>1.12.2016</td>\n",
       "    </tr>\n",
       "  </tbody>\n",
       "</table>\n",
       "</div>"
      ],
      "text/plain": [
       "   Bil NEGERI                              PROJEK  \\\n",
       "0    1  Johor           Taman Mewah Jaya,Plentong   \n",
       "1    2  Johor  Taman Tunku Abdul Rahman, Segamat.   \n",
       "2    3  Johor  Taman Cahaya Perserai, Batu Pahat.   \n",
       "\n",
       "                                              PEMAJU  BIL_DIBINA  BIL_DIJUAL  \\\n",
       "0                      Kong Sun Construction Sdn Bhd         199         163   \n",
       "1  Vital Landscape Sdn Bhd                       ...          90          63   \n",
       "2  Kitaremas Development Sdn Bhd (digulung : 20/1...          22           6   \n",
       "\n",
       "  TARIKH_SEPATUT_SIAP TARIKH_TERBENGKALAI  \n",
       "0                2005          31.12.2005  \n",
       "1                2005           16.3.2012  \n",
       "2           21.1.2011           1.12.2016  "
      ]
     },
     "execution_count": 34,
     "metadata": {},
     "output_type": "execute_result"
    }
   ],
   "source": [
    "proj.loc[:2]"
   ]
  },
  {
   "cell_type": "raw",
   "metadata": {},
   "source": [
    "import pandas as pd"
   ]
  },
  {
   "cell_type": "raw",
   "metadata": {},
   "source": [
    "bob = pd.read_csv(\"./workspace/2-package-csv/projek-terbengkelai-digulung-tahun-2017/data/digulung-tahun-2017.csv\")"
   ]
  },
  {
   "cell_type": "code",
   "execution_count": 7,
   "metadata": {},
   "outputs": [
    {
     "data": {
      "application/vnd.vegalite.v2+json": {
       "$schema": "https://vega.github.io/schema/vega-lite/v2.6.0.json",
       "config": {
        "view": {
         "height": 300,
         "width": 400
        }
       },
       "data": {
        "name": "data-7e1934b3daa9d36be35cf2a9d4d9db1c"
       },
       "datasets": {
        "data-7e1934b3daa9d36be35cf2a9d4d9db1c": [
         {
          "BIL_DIBINA": 199,
          "BIL_DIJUAL": 163,
          "Bil": 1,
          "NEGERI": "Johor",
          "PEMAJU": "Kong Sun Construction Sdn Bhd",
          "PROJEK": "Taman Mewah Jaya,Plentong",
          "TARIKH_SEPATUT_SIAP": "2005",
          "TARIKH_TERBENGKALAI": "31.12.2005"
         },
         {
          "BIL_DIBINA": 90,
          "BIL_DIJUAL": 63,
          "Bil": 2,
          "NEGERI": "Johor",
          "PEMAJU": "Vital Landscape Sdn Bhd                                     \r\n(digulung : 21.9.2015)                                       \r\nPelikuidasi : Jabatan Insolvensi Muar.       ",
          "PROJEK": "Taman Tunku Abdul Rahman, Segamat.",
          "TARIKH_SEPATUT_SIAP": "2005",
          "TARIKH_TERBENGKALAI": "16.3.2012"
         },
         {
          "BIL_DIBINA": 22,
          "BIL_DIJUAL": 6,
          "Bil": 3,
          "NEGERI": "Johor",
          "PEMAJU": "Kitaremas Development Sdn Bhd (digulung : 20/10/17)                                         \r\n- Zakaria Augustine kang Consultancy.",
          "PROJEK": "Taman Cahaya Perserai, Batu Pahat.",
          "TARIKH_SEPATUT_SIAP": "21.1.2011",
          "TARIKH_TERBENGKALAI": "1.12.2016"
         },
         {
          "BIL_DIBINA": 108,
          "BIL_DIJUAL": 30,
          "Bil": 4,
          "NEGERI": "Kedah",
          "PEMAJU": "PRJ (M) Sdn Bhd                   \r\n(digulung : 14.12.2006)     \r\n- Hall Chadwick Corporate Advisory Sdn Bhd                                                          \r\n- Vista Canggih Development.",
          "PROJEK": "Palma Ria Kondominium, Kuah, Langkawi.",
          "TARIKH_SEPATUT_SIAP": "1999",
          "TARIKH_TERBENGKALAI": "31.1.2004"
         },
         {
          "BIL_DIBINA": 46,
          "BIL_DIJUAL": 30,
          "Bil": 5,
          "NEGERI": "Kelantan",
          "PEMAJU": "MJ Land Properties Sdn Bhd(digulung : 3.10.2014)'- MdI W.P K.L(digulung : 26.10.2016)'- Kencana Advisory Corporate",
          "PROJEK": "Taman MJ Kemuning 2,Machang",
          "TARIKH_SEPATUT_SIAP": "21.7.2008",
          "TARIKH_TERBENGKALAI": "30.7.2015"
         },
         {
          "BIL_DIBINA": 34,
          "BIL_DIJUAL": 34,
          "Bil": 6,
          "NEGERI": "Kelantan",
          "PEMAJU": "MJ Land Properties Sdn Bhd(digulung : 3.10.2014)''- MdI W.P K.L' (digulung : 26.10.2016) 'Kencana Advisory Corporate",
          "PROJEK": "Taman MJ Desa Kusial, Tanah Merah",
          "TARIKH_SEPATUT_SIAP": "20.9.2010",
          "TARIKH_TERBENGKALAI": "1.12.2016"
         },
         {
          "BIL_DIBINA": 20,
          "BIL_DIJUAL": 20,
          "Bil": 7,
          "NEGERI": "Kelantan",
          "PEMAJU": "MJ Land Properties Sdn Bhd(digulung : 3.10.2014)'- MdI W.P K.L '(digulung : 26.10.2016) 'Kencana Advisory Corporate",
          "PROJEK": "Taman Perisai Kemuning, Machang",
          "TARIKH_SEPATUT_SIAP": "21.7.2008",
          "TARIKH_TERBENGKALAI": "1.12.2016"
         },
         {
          "BIL_DIBINA": 39,
          "BIL_DIJUAL": 39,
          "Bil": 8,
          "NEGERI": "Kelantan",
          "PEMAJU": "MJ Land Properties Sdn Bhd(digulung : 3.10.2014)'- MdI W.P K.L  '(digulung : 26.10.2016)'Kencana Advisory Corporate",
          "PROJEK": "Taman MJ Selasih,Pasir Mas",
          "TARIKH_SEPATUT_SIAP": "21.10.2008",
          "TARIKH_TERBENGKALAI": "1.12.2016"
         },
         {
          "BIL_DIBINA": 90,
          "BIL_DIJUAL": 90,
          "Bil": 9,
          "NEGERI": "Kelantan",
          "PEMAJU": "MJ Land Properties Sdn Bhd(digulung : 3.10.2014)'- MdI W.P K.L  '(digulung : 26.10.2016)'Kencana Advisory Corporate",
          "PROJEK": "Taman MJ Melor Jaya, Kota Bharu",
          "TARIKH_SEPATUT_SIAP": "18.6.2008",
          "TARIKH_TERBENGKALAI": "1.12.2016"
         },
         {
          "BIL_DIBINA": 55,
          "BIL_DIJUAL": 55,
          "Bil": 10,
          "NEGERI": "Kelantan",
          "PEMAJU": "MJ Land Properties Sdn Bhd(digulung : 3.10.2014)'- MdI W.P K.L  '(digulung : 26.10.2016)'Kencana Advisory Corporate",
          "PROJEK": "Taman MJ Sri Bistari, Machang",
          "TARIKH_SEPATUT_SIAP": "18.9.2010",
          "TARIKH_TERBENGKALAI": "1.12.2016"
         },
         {
          "BIL_DIBINA": 69,
          "BIL_DIJUAL": 69,
          "Bil": 11,
          "NEGERI": "Kelantan",
          "PEMAJU": "Nusajaza Development Sdn Bhd (Digulung : 30.4.2017)'- Kencana Corporate Advisory",
          "PROJEK": "Taman Seri Jaza Machang, Machang",
          "TARIKH_SEPATUT_SIAP": "30.4.2010",
          "TARIKH_TERBENGKALAI": "1.12.2016"
         },
         {
          "BIL_DIBINA": 447,
          "BIL_DIJUAL": 447,
          "Bil": 12,
          "NEGERI": "Kelantan",
          "PEMAJU": "Nusajaza Development Sdn Bhd (Digulung : 30.4.2017)'- Kencana Corporate Advisory",
          "PROJEK": "Taman Jaza Perdana, Tanah Merah",
          "TARIKH_SEPATUT_SIAP": "30.8.2011",
          "TARIKH_TERBENGKALAI": "1.12.2016"
         },
         {
          "BIL_DIBINA": 71,
          "BIL_DIJUAL": 71,
          "Bil": 13,
          "NEGERI": "Kelantan",
          "PEMAJU": "Nusajaza Development Sdn Bhd (Digulung : 30.4.2017)'- Kencana Corporate Advisory",
          "PROJEK": "Taman Desa Jaza Lubok Jambu 2, Ketereh",
          "TARIKH_SEPATUT_SIAP": "26.8.2012",
          "TARIKH_TERBENGKALAI": "1.12.2016"
         },
         {
          "BIL_DIBINA": 20,
          "BIL_DIJUAL": 20,
          "Bil": 14,
          "NEGERI": "Kelantan",
          "PEMAJU": "Nusajaza Development Sdn Bhd (Digulung : 30.4.2017)'- Kencana Corporate Advisory",
          "PROJEK": "Taman Jaza Idaman Pak Badol, Bachok",
          "TARIKH_SEPATUT_SIAP": "15.6.2012",
          "TARIKH_TERBENGKALAI": "1.12.2016"
         },
         {
          "BIL_DIBINA": 335,
          "BIL_DIJUAL": 320,
          "Bil": 15,
          "NEGERI": "Negeri Sembilan",
          "PEMAJU": "Resolute Fortune Sdn Bhd(digulung : 29.4.2011)'- MdI Seremban",
          "PROJEK": "Taman Pinggiran Felda, Gemas",
          "TARIKH_SEPATUT_SIAP": "20.4.2007",
          "TARIKH_TERBENGKALAI": "31.1.2017"
         },
         {
          "BIL_DIBINA": 231,
          "BIL_DIJUAL": 213,
          "Bil": 16,
          "NEGERI": "Negeri Sembilan",
          "PEMAJU": "Kemajuan Perpaduan Sdn Bhd(digulung : 8.5.2012)'- Crowe Horwath Advisory Sdn Bhd",
          "PROJEK": "Perpaduan Heights Fasa 1 & 2,Kuala Pilah",
          "TARIKH_SEPATUT_SIAP": "2001",
          "TARIKH_TERBENGKALAI": "31.12.2006"
         },
         {
          "BIL_DIBINA": 74,
          "BIL_DIJUAL": 19,
          "Bil": 17,
          "NEGERI": "Pahang",
          "PEMAJU": "Salam Properties Sdn Bhd (digulung : 2012)- Mdi Selangor (digulung : ) - StevenZac Consulting Sdn Bhd",
          "PROJEK": "Perumahan Permatang Shahbandar, Maran.",
          "TARIKH_SEPATUT_SIAP": "31.1.1996",
          "TARIKH_TERBENGKALAI": "18.9.2013"
         },
         {
          "BIL_DIBINA": 86,
          "BIL_DIJUAL": 86,
          "Bil": 18,
          "NEGERI": "Pahang",
          "PEMAJU": "Nusajaza Development Sdn Bhd(digulung : 30.4.2017) '- Pelikuidasi - Kencana Corporate Advisory",
          "PROJEK": "Taman Jaza Jasmin, Kuantan",
          "TARIKH_SEPATUT_SIAP": "30.1.2011",
          "TARIKH_TERBENGKALAI": "1.12.2016"
         },
         {
          "BIL_DIBINA": 154,
          "BIL_DIJUAL": 137,
          "Bil": 19,
          "NEGERI": "Perak",
          "PEMAJU": "Columbia Kinta Sdn Bhd    (digulung : 29.3.1990)       \r\n - Rimbun Corporate Advisory Sdn Bhd",
          "PROJEK": "Taman Seri Emas, Kampar.",
          "TARIKH_SEPATUT_SIAP": "1985",
          "TARIKH_TERBENGKALAI": "18.2.2013"
         },
         {
          "BIL_DIBINA": 24,
          "BIL_DIJUAL": 19,
          "Bil": 20,
          "NEGERI": "Perak",
          "PEMAJU": "Masinda Sdn Bhd        (digulung : 29.3.2017 )'- MNZWAJ Associates   ",
          "PROJEK": "Taman Diawan,  Kampar",
          "TARIKH_SEPATUT_SIAP": "1991",
          "TARIKH_TERBENGKALAI": "16.3.2012"
         },
         {
          "BIL_DIBINA": 150,
          "BIL_DIJUAL": 94,
          "Bil": 21,
          "NEGERI": "Selangor",
          "PEMAJU": "Bahagia Indah Properties Sdn Bhd                     \r\n(digulung : )- Satria Advisory Sdn Bhd",
          "PROJEK": "Taman Bahagia Indah, Kajang",
          "TARIKH_SEPATUT_SIAP": "1.4.2005",
          "TARIKH_TERBENGKALAI": "1.12.2016"
         },
         {
          "BIL_DIBINA": 901,
          "BIL_DIJUAL": 689,
          "Bil": 22,
          "NEGERI": "Selangor",
          "PEMAJU": "Lembah Beringin Sdn Bhd(digulung : 17.03.2006)'- Ferrior Hudgson Sdn Bhd '                  \r\n- Punari sdn Bhd(Pemaju Penyelamat)",
          "PROJEK": "Lembah Beringin,Kerling, Hulu Selangor",
          "TARIKH_SEPATUT_SIAP": "1998",
          "TARIKH_TERBENGKALAI": "31.12.2001"
         },
         {
          "BIL_DIBINA": 1436,
          "BIL_DIJUAL": 686,
          "Bil": 23,
          "NEGERI": "Selangor",
          "PEMAJU": "Delpuri Corporation Sdn Bhd (digulung : 26.9.2014)'                            - Hall Chadwick Corporate Advisory Sdn Bhd",
          "PROJEK": "Taman Selayang Mutiara,Selayang (dicadangkan untuk dipulihkan dengan Dana Kerajaan)",
          "TARIKH_SEPATUT_SIAP": "10.3.2006",
          "TARIKH_TERBENGKALAI": "18.2.2013"
         },
         {
          "BIL_DIBINA": 37,
          "BIL_DIJUAL": 31,
          "Bil": 24,
          "NEGERI": "Selangor",
          "PEMAJU": "Suasana Ehsan (M) Sdn Bhd (digulung : 23.7.2014)'                              \r\n- Augustin James & Co.",
          "PROJEK": "Taman Desa Kencana,Klang",
          "TARIKH_SEPATUT_SIAP": "21.3.2009",
          "TARIKH_TERBENGKALAI": "22.4.2014"
         },
         {
          "BIL_DIBINA": 29,
          "BIL_DIJUAL": 29,
          "Bil": 25,
          "NEGERI": "Selangor",
          "PEMAJU": "Suasana Ehsan (M) Sdn Bhd(digulung : 23.7.2014) - Augustin James & Co.",
          "PROJEK": "Lot 1919,Hulu Langat,",
          "TARIKH_SEPATUT_SIAP": "5.7.2008",
          "TARIKH_TERBENGKALAI": "18.9.2013"
         },
         {
          "BIL_DIBINA": 110,
          "BIL_DIJUAL": 40,
          "Bil": 26,
          "NEGERI": "Selangor",
          "PEMAJU": "Penchala Properties Sdn Bhd(digulung : 13.7.2015)'-            MDI WP. KL.",
          "PROJEK": "Taman Impian Langat,Hulu Langat,",
          "TARIKH_SEPATUT_SIAP": "11.7.2006",
          "TARIKH_TERBENGKALAI": "18.9.2013"
         },
         {
          "BIL_DIBINA": 84,
          "BIL_DIJUAL": 84,
          "Bil": 27,
          "NEGERI": "Selangor",
          "PEMAJU": "Chong Hin Development Sdn Bhd '(digulung : 6.12.2012 )'- StevenZac Consulting Sdn Bhd",
          "PROJEK": "Golden Village,      Klang",
          "TARIKH_SEPATUT_SIAP": "14.9.2009",
          "TARIKH_TERBENGKALAI": "18.9.2013"
         },
         {
          "BIL_DIBINA": 10,
          "BIL_DIJUAL": 10,
          "Bil": 28,
          "NEGERI": "Selangor",
          "PEMAJU": "Aras Dimensi Sdn Bhd (digulung : 5.1.2012)  StevenZac Consulting Sdn Bhd",
          "PROJEK": "Taman Desa Utama, Sepang",
          "TARIKH_SEPATUT_SIAP": "26.3.2010",
          "TARIKH_TERBENGKALAI": "1.12.2016"
         },
         {
          "BIL_DIBINA": 176,
          "BIL_DIJUAL": 170,
          "Bil": 29,
          "NEGERI": "Selangor",
          "PEMAJU": "Sedaya Sdn Bhd (digulung : 18.6.2010) \r\n- CRS Advisory Sdn Bhd",
          "PROJEK": "Taman Daya (Astana Square), Selayang",
          "TARIKH_SEPATUT_SIAP": null,
          "TARIKH_TERBENGKALAI": "1.12.2016"
         },
         {
          "BIL_DIBINA": 44,
          "BIL_DIJUAL": 40,
          "Bil": 30,
          "NEGERI": "Selangor",
          "PEMAJU": "Marl-One Development Sdn Bhd \r\n(digulung : 20.2.2014)'   \r\n- SL Ng Associates'Hotwer Development Sdn Bhd(digulung : 12.4.2012)' \r\n- KPMG Corporate",
          "PROJEK": "PK Villa, Klang",
          "TARIKH_SEPATUT_SIAP": "8.8.2003",
          "TARIKH_TERBENGKALAI": "1.12.2016"
         },
         {
          "BIL_DIBINA": 377,
          "BIL_DIJUAL": 310,
          "Bil": 31,
          "NEGERI": "Selangor",
          "PEMAJU": "Hotwer Development Sdn Bhd(digulung : 12.4.2012) - KPMG Corporate",
          "PROJEK": "The Boss, Klang",
          "TARIKH_SEPATUT_SIAP": "30.12.2013",
          "TARIKH_TERBENGKALAI": "1.12.2016"
         },
         {
          "BIL_DIBINA": 44,
          "BIL_DIJUAL": 44,
          "Bil": 32,
          "NEGERI": "Selangor",
          "PEMAJU": "SPS Setia Sdn Bhd (digulung : 18.5.2017) - Zakaria Augustine Kang \r\nPemaju penyelamat : Kompobina Holding",
          "PROJEK": "Taman Qismul Maya II, Shah Alam",
          "TARIKH_SEPATUT_SIAP": "5.11.2009",
          "TARIKH_TERBENGKALAI": "1.12.2016"
         },
         {
          "BIL_DIBINA": 23,
          "BIL_DIJUAL": 23,
          "Bil": 33,
          "NEGERI": "Selangor",
          "PEMAJU": "SPS Setia Sdn Bhd (digulung : 18.5.2017) - Zakaria Augustine Kang                                                \r\nPemaju Penyelamat : Setia Jutamas",
          "PROJEK": "Taman Qismul Maya III, Shah Alam",
          "TARIKH_SEPATUT_SIAP": "5.11.2009",
          "TARIKH_TERBENGKALAI": "1.12.2016"
         },
         {
          "BIL_DIBINA": 198,
          "BIL_DIJUAL": 161,
          "Bil": 34,
          "NEGERI": "Terengganu",
          "PEMAJU": "MME Realty & Management Sdn Bhd (Digulung : 12.01.2017)' - MDI Caw. KL        ",
          "PROJEK": "Taman Kemang Tiruk, Kuala Terengganu",
          "TARIKH_SEPATUT_SIAP": "2013",
          "TARIKH_TERBENGKALAI": "30.7.2015"
         },
         {
          "BIL_DIBINA": 12,
          "BIL_DIJUAL": 4,
          "Bil": 35,
          "NEGERI": "Terengganu",
          "PEMAJU": "Nusajaza Development Sdn Bhd (Digulung : 30.4.2017) - Kencana Corporate Advisory",
          "PROJEK": "Taman Kelulut Indah, Marang",
          "TARIKH_SEPATUT_SIAP": "2012",
          "TARIKH_TERBENGKALAI": "30.7.2015"
         },
         {
          "BIL_DIBINA": 109,
          "BIL_DIJUAL": 109,
          "Bil": 36,
          "NEGERI": "Terengganu",
          "PEMAJU": "Nusajaza Development Sdn Bhd (Digulung : 30.4.2017) - Kencana Corporate Advisory",
          "PROJEK": "Taman Dato' Ibrahim, Marang",
          "TARIKH_SEPATUT_SIAP": "6.12.2009",
          "TARIKH_TERBENGKALAI": "1.12.2016"
         }
        ]
       },
       "encoding": {
        "color": {
         "field": "NEGERI",
         "type": "nominal"
        },
        "x": {
         "field": "PEMAJU",
         "type": "nominal"
        },
        "y": {
         "field": "BIL_DIBINA",
         "type": "quantitative"
        }
       },
       "mark": "point"
      },
      "image/png": "[encoded data removed]",
      "text/plain": [
       "<VegaLite 2 object>\n",
       "\n",
       "If you see this message, it means the renderer has not been properly enabled\n",
       "for the frontend that you are using. For more information, see\n",
       "https://altair-viz.github.io/user_guide/troubleshooting.html\n"
      ]
     },
     "execution_count": 7,
     "metadata": {},
     "output_type": "execute_result"
    }
   ],
   "source": [
    "alt.Chart(bob).mark_point().encode(\n",
    "    x='PEMAJU',\n",
    "    y='BIL_DIBINA',\n",
    "    color='NEGERI'\n",
    ")"
   ]
  },
  {
   "cell_type": "code",
   "execution_count": 15,
   "metadata": {},
   "outputs": [
    {
     "data": {
      "text/html": [
       "<div>\n",
       "<style scoped>\n",
       "    .dataframe tbody tr th:only-of-type {\n",
       "        vertical-align: middle;\n",
       "    }\n",
       "\n",
       "    .dataframe tbody tr th {\n",
       "        vertical-align: top;\n",
       "    }\n",
       "\n",
       "    .dataframe thead th {\n",
       "        text-align: right;\n",
       "    }\n",
       "</style>\n",
       "<table border=\"1\" class=\"dataframe\">\n",
       "  <thead>\n",
       "    <tr style=\"text-align: right;\">\n",
       "      <th></th>\n",
       "      <th>Bil</th>\n",
       "      <th>NEGERI</th>\n",
       "      <th>PROJEK</th>\n",
       "      <th>PEMAJU</th>\n",
       "      <th>BIL_DIBINA</th>\n",
       "      <th>BIL_DIJUAL</th>\n",
       "      <th>TARIKH_SEPATUT_SIAP</th>\n",
       "      <th>TARIKH_TERBENGKALAI</th>\n",
       "    </tr>\n",
       "  </thead>\n",
       "  <tbody>\n",
       "    <tr>\n",
       "      <th>0</th>\n",
       "      <td>1</td>\n",
       "      <td>Johor</td>\n",
       "      <td>Taman Mewah Jaya,Plentong</td>\n",
       "      <td>Kong Sun Construction Sdn Bhd</td>\n",
       "      <td>199</td>\n",
       "      <td>163</td>\n",
       "      <td>2005</td>\n",
       "      <td>31.12.2005</td>\n",
       "    </tr>\n",
       "    <tr>\n",
       "      <th>1</th>\n",
       "      <td>2</td>\n",
       "      <td>Johor</td>\n",
       "      <td>Taman Tunku Abdul Rahman, Segamat.</td>\n",
       "      <td>Vital Landscape Sdn Bhd                       ...</td>\n",
       "      <td>90</td>\n",
       "      <td>63</td>\n",
       "      <td>2005</td>\n",
       "      <td>16.3.2012</td>\n",
       "    </tr>\n",
       "    <tr>\n",
       "      <th>2</th>\n",
       "      <td>3</td>\n",
       "      <td>Johor</td>\n",
       "      <td>Taman Cahaya Perserai, Batu Pahat.</td>\n",
       "      <td>Kitaremas Development Sdn Bhd (digulung : 20/1...</td>\n",
       "      <td>22</td>\n",
       "      <td>6</td>\n",
       "      <td>21.1.2011</td>\n",
       "      <td>1.12.2016</td>\n",
       "    </tr>\n",
       "    <tr>\n",
       "      <th>3</th>\n",
       "      <td>4</td>\n",
       "      <td>Kedah</td>\n",
       "      <td>Palma Ria Kondominium, Kuah, Langkawi.</td>\n",
       "      <td>PRJ (M) Sdn Bhd                   \\r\\n(digulun...</td>\n",
       "      <td>108</td>\n",
       "      <td>30</td>\n",
       "      <td>1999</td>\n",
       "      <td>31.1.2004</td>\n",
       "    </tr>\n",
       "    <tr>\n",
       "      <th>4</th>\n",
       "      <td>5</td>\n",
       "      <td>Kelantan</td>\n",
       "      <td>Taman MJ Kemuning 2,Machang</td>\n",
       "      <td>MJ Land Properties Sdn Bhd(digulung : 3.10.201...</td>\n",
       "      <td>46</td>\n",
       "      <td>30</td>\n",
       "      <td>21.7.2008</td>\n",
       "      <td>30.7.2015</td>\n",
       "    </tr>\n",
       "    <tr>\n",
       "      <th>5</th>\n",
       "      <td>6</td>\n",
       "      <td>Kelantan</td>\n",
       "      <td>Taman MJ Desa Kusial, Tanah Merah</td>\n",
       "      <td>MJ Land Properties Sdn Bhd(digulung : 3.10.201...</td>\n",
       "      <td>34</td>\n",
       "      <td>34</td>\n",
       "      <td>20.9.2010</td>\n",
       "      <td>1.12.2016</td>\n",
       "    </tr>\n",
       "    <tr>\n",
       "      <th>6</th>\n",
       "      <td>7</td>\n",
       "      <td>Kelantan</td>\n",
       "      <td>Taman Perisai Kemuning, Machang</td>\n",
       "      <td>MJ Land Properties Sdn Bhd(digulung : 3.10.201...</td>\n",
       "      <td>20</td>\n",
       "      <td>20</td>\n",
       "      <td>21.7.2008</td>\n",
       "      <td>1.12.2016</td>\n",
       "    </tr>\n",
       "    <tr>\n",
       "      <th>7</th>\n",
       "      <td>8</td>\n",
       "      <td>Kelantan</td>\n",
       "      <td>Taman MJ Selasih,Pasir Mas</td>\n",
       "      <td>MJ Land Properties Sdn Bhd(digulung : 3.10.201...</td>\n",
       "      <td>39</td>\n",
       "      <td>39</td>\n",
       "      <td>21.10.2008</td>\n",
       "      <td>1.12.2016</td>\n",
       "    </tr>\n",
       "    <tr>\n",
       "      <th>8</th>\n",
       "      <td>9</td>\n",
       "      <td>Kelantan</td>\n",
       "      <td>Taman MJ Melor Jaya, Kota Bharu</td>\n",
       "      <td>MJ Land Properties Sdn Bhd(digulung : 3.10.201...</td>\n",
       "      <td>90</td>\n",
       "      <td>90</td>\n",
       "      <td>18.6.2008</td>\n",
       "      <td>1.12.2016</td>\n",
       "    </tr>\n",
       "    <tr>\n",
       "      <th>9</th>\n",
       "      <td>10</td>\n",
       "      <td>Kelantan</td>\n",
       "      <td>Taman MJ Sri Bistari, Machang</td>\n",
       "      <td>MJ Land Properties Sdn Bhd(digulung : 3.10.201...</td>\n",
       "      <td>55</td>\n",
       "      <td>55</td>\n",
       "      <td>18.9.2010</td>\n",
       "      <td>1.12.2016</td>\n",
       "    </tr>\n",
       "    <tr>\n",
       "      <th>10</th>\n",
       "      <td>11</td>\n",
       "      <td>Kelantan</td>\n",
       "      <td>Taman Seri Jaza Machang, Machang</td>\n",
       "      <td>Nusajaza Development Sdn Bhd (Digulung : 30.4....</td>\n",
       "      <td>69</td>\n",
       "      <td>69</td>\n",
       "      <td>30.4.2010</td>\n",
       "      <td>1.12.2016</td>\n",
       "    </tr>\n",
       "    <tr>\n",
       "      <th>11</th>\n",
       "      <td>12</td>\n",
       "      <td>Kelantan</td>\n",
       "      <td>Taman Jaza Perdana, Tanah Merah</td>\n",
       "      <td>Nusajaza Development Sdn Bhd (Digulung : 30.4....</td>\n",
       "      <td>447</td>\n",
       "      <td>447</td>\n",
       "      <td>30.8.2011</td>\n",
       "      <td>1.12.2016</td>\n",
       "    </tr>\n",
       "    <tr>\n",
       "      <th>12</th>\n",
       "      <td>13</td>\n",
       "      <td>Kelantan</td>\n",
       "      <td>Taman Desa Jaza Lubok Jambu 2, Ketereh</td>\n",
       "      <td>Nusajaza Development Sdn Bhd (Digulung : 30.4....</td>\n",
       "      <td>71</td>\n",
       "      <td>71</td>\n",
       "      <td>26.8.2012</td>\n",
       "      <td>1.12.2016</td>\n",
       "    </tr>\n",
       "    <tr>\n",
       "      <th>13</th>\n",
       "      <td>14</td>\n",
       "      <td>Kelantan</td>\n",
       "      <td>Taman Jaza Idaman Pak Badol, Bachok</td>\n",
       "      <td>Nusajaza Development Sdn Bhd (Digulung : 30.4....</td>\n",
       "      <td>20</td>\n",
       "      <td>20</td>\n",
       "      <td>15.6.2012</td>\n",
       "      <td>1.12.2016</td>\n",
       "    </tr>\n",
       "    <tr>\n",
       "      <th>14</th>\n",
       "      <td>15</td>\n",
       "      <td>Negeri Sembilan</td>\n",
       "      <td>Taman Pinggiran Felda, Gemas</td>\n",
       "      <td>Resolute Fortune Sdn Bhd(digulung : 29.4.2011)...</td>\n",
       "      <td>335</td>\n",
       "      <td>320</td>\n",
       "      <td>20.4.2007</td>\n",
       "      <td>31.1.2017</td>\n",
       "    </tr>\n",
       "    <tr>\n",
       "      <th>15</th>\n",
       "      <td>16</td>\n",
       "      <td>Negeri Sembilan</td>\n",
       "      <td>Perpaduan Heights Fasa 1 &amp; 2,Kuala Pilah</td>\n",
       "      <td>Kemajuan Perpaduan Sdn Bhd(digulung : 8.5.2012...</td>\n",
       "      <td>231</td>\n",
       "      <td>213</td>\n",
       "      <td>2001</td>\n",
       "      <td>31.12.2006</td>\n",
       "    </tr>\n",
       "    <tr>\n",
       "      <th>16</th>\n",
       "      <td>17</td>\n",
       "      <td>Pahang</td>\n",
       "      <td>Perumahan Permatang Shahbandar, Maran.</td>\n",
       "      <td>Salam Properties Sdn Bhd (digulung : 2012)- Md...</td>\n",
       "      <td>74</td>\n",
       "      <td>19</td>\n",
       "      <td>31.1.1996</td>\n",
       "      <td>18.9.2013</td>\n",
       "    </tr>\n",
       "    <tr>\n",
       "      <th>17</th>\n",
       "      <td>18</td>\n",
       "      <td>Pahang</td>\n",
       "      <td>Taman Jaza Jasmin, Kuantan</td>\n",
       "      <td>Nusajaza Development Sdn Bhd(digulung : 30.4.2...</td>\n",
       "      <td>86</td>\n",
       "      <td>86</td>\n",
       "      <td>30.1.2011</td>\n",
       "      <td>1.12.2016</td>\n",
       "    </tr>\n",
       "    <tr>\n",
       "      <th>18</th>\n",
       "      <td>19</td>\n",
       "      <td>Perak</td>\n",
       "      <td>Taman Seri Emas, Kampar.</td>\n",
       "      <td>Columbia Kinta Sdn Bhd    (digulung : 29.3.199...</td>\n",
       "      <td>154</td>\n",
       "      <td>137</td>\n",
       "      <td>1985</td>\n",
       "      <td>18.2.2013</td>\n",
       "    </tr>\n",
       "    <tr>\n",
       "      <th>19</th>\n",
       "      <td>20</td>\n",
       "      <td>Perak</td>\n",
       "      <td>Taman Diawan,  Kampar</td>\n",
       "      <td>Masinda Sdn Bhd        (digulung : 29.3.2017 )...</td>\n",
       "      <td>24</td>\n",
       "      <td>19</td>\n",
       "      <td>1991</td>\n",
       "      <td>16.3.2012</td>\n",
       "    </tr>\n",
       "    <tr>\n",
       "      <th>20</th>\n",
       "      <td>21</td>\n",
       "      <td>Selangor</td>\n",
       "      <td>Taman Bahagia Indah, Kajang</td>\n",
       "      <td>Bahagia Indah Properties Sdn Bhd              ...</td>\n",
       "      <td>150</td>\n",
       "      <td>94</td>\n",
       "      <td>1.4.2005</td>\n",
       "      <td>1.12.2016</td>\n",
       "    </tr>\n",
       "    <tr>\n",
       "      <th>21</th>\n",
       "      <td>22</td>\n",
       "      <td>Selangor</td>\n",
       "      <td>Lembah Beringin,Kerling, Hulu Selangor</td>\n",
       "      <td>Lembah Beringin Sdn Bhd(digulung : 17.03.2006)...</td>\n",
       "      <td>901</td>\n",
       "      <td>689</td>\n",
       "      <td>1998</td>\n",
       "      <td>31.12.2001</td>\n",
       "    </tr>\n",
       "    <tr>\n",
       "      <th>22</th>\n",
       "      <td>23</td>\n",
       "      <td>Selangor</td>\n",
       "      <td>Taman Selayang Mutiara,Selayang (dicadangkan u...</td>\n",
       "      <td>Delpuri Corporation Sdn Bhd (digulung : 26.9.2...</td>\n",
       "      <td>1436</td>\n",
       "      <td>686</td>\n",
       "      <td>10.3.2006</td>\n",
       "      <td>18.2.2013</td>\n",
       "    </tr>\n",
       "    <tr>\n",
       "      <th>23</th>\n",
       "      <td>24</td>\n",
       "      <td>Selangor</td>\n",
       "      <td>Taman Desa Kencana,Klang</td>\n",
       "      <td>Suasana Ehsan (M) Sdn Bhd (digulung : 23.7.201...</td>\n",
       "      <td>37</td>\n",
       "      <td>31</td>\n",
       "      <td>21.3.2009</td>\n",
       "      <td>22.4.2014</td>\n",
       "    </tr>\n",
       "    <tr>\n",
       "      <th>24</th>\n",
       "      <td>25</td>\n",
       "      <td>Selangor</td>\n",
       "      <td>Lot 1919,Hulu Langat,</td>\n",
       "      <td>Suasana Ehsan (M) Sdn Bhd(digulung : 23.7.2014...</td>\n",
       "      <td>29</td>\n",
       "      <td>29</td>\n",
       "      <td>5.7.2008</td>\n",
       "      <td>18.9.2013</td>\n",
       "    </tr>\n",
       "    <tr>\n",
       "      <th>25</th>\n",
       "      <td>26</td>\n",
       "      <td>Selangor</td>\n",
       "      <td>Taman Impian Langat,Hulu Langat,</td>\n",
       "      <td>Penchala Properties Sdn Bhd(digulung : 13.7.20...</td>\n",
       "      <td>110</td>\n",
       "      <td>40</td>\n",
       "      <td>11.7.2006</td>\n",
       "      <td>18.9.2013</td>\n",
       "    </tr>\n",
       "    <tr>\n",
       "      <th>26</th>\n",
       "      <td>27</td>\n",
       "      <td>Selangor</td>\n",
       "      <td>Golden Village,      Klang</td>\n",
       "      <td>Chong Hin Development Sdn Bhd '(digulung : 6.1...</td>\n",
       "      <td>84</td>\n",
       "      <td>84</td>\n",
       "      <td>14.9.2009</td>\n",
       "      <td>18.9.2013</td>\n",
       "    </tr>\n",
       "    <tr>\n",
       "      <th>27</th>\n",
       "      <td>28</td>\n",
       "      <td>Selangor</td>\n",
       "      <td>Taman Desa Utama, Sepang</td>\n",
       "      <td>Aras Dimensi Sdn Bhd (digulung : 5.1.2012)  St...</td>\n",
       "      <td>10</td>\n",
       "      <td>10</td>\n",
       "      <td>26.3.2010</td>\n",
       "      <td>1.12.2016</td>\n",
       "    </tr>\n",
       "    <tr>\n",
       "      <th>28</th>\n",
       "      <td>29</td>\n",
       "      <td>Selangor</td>\n",
       "      <td>Taman Daya (Astana Square), Selayang</td>\n",
       "      <td>Sedaya Sdn Bhd (digulung : 18.6.2010) \\r\\n- CR...</td>\n",
       "      <td>176</td>\n",
       "      <td>170</td>\n",
       "      <td>NaN</td>\n",
       "      <td>1.12.2016</td>\n",
       "    </tr>\n",
       "    <tr>\n",
       "      <th>29</th>\n",
       "      <td>30</td>\n",
       "      <td>Selangor</td>\n",
       "      <td>PK Villa, Klang</td>\n",
       "      <td>Marl-One Development Sdn Bhd \\r\\n(digulung : 2...</td>\n",
       "      <td>44</td>\n",
       "      <td>40</td>\n",
       "      <td>8.8.2003</td>\n",
       "      <td>1.12.2016</td>\n",
       "    </tr>\n",
       "    <tr>\n",
       "      <th>30</th>\n",
       "      <td>31</td>\n",
       "      <td>Selangor</td>\n",
       "      <td>The Boss, Klang</td>\n",
       "      <td>Hotwer Development Sdn Bhd(digulung : 12.4.201...</td>\n",
       "      <td>377</td>\n",
       "      <td>310</td>\n",
       "      <td>30.12.2013</td>\n",
       "      <td>1.12.2016</td>\n",
       "    </tr>\n",
       "    <tr>\n",
       "      <th>31</th>\n",
       "      <td>32</td>\n",
       "      <td>Selangor</td>\n",
       "      <td>Taman Qismul Maya II, Shah Alam</td>\n",
       "      <td>SPS Setia Sdn Bhd (digulung : 18.5.2017) - Zak...</td>\n",
       "      <td>44</td>\n",
       "      <td>44</td>\n",
       "      <td>5.11.2009</td>\n",
       "      <td>1.12.2016</td>\n",
       "    </tr>\n",
       "    <tr>\n",
       "      <th>32</th>\n",
       "      <td>33</td>\n",
       "      <td>Selangor</td>\n",
       "      <td>Taman Qismul Maya III, Shah Alam</td>\n",
       "      <td>SPS Setia Sdn Bhd (digulung : 18.5.2017) - Zak...</td>\n",
       "      <td>23</td>\n",
       "      <td>23</td>\n",
       "      <td>5.11.2009</td>\n",
       "      <td>1.12.2016</td>\n",
       "    </tr>\n",
       "    <tr>\n",
       "      <th>33</th>\n",
       "      <td>34</td>\n",
       "      <td>Terengganu</td>\n",
       "      <td>Taman Kemang Tiruk, Kuala Terengganu</td>\n",
       "      <td>MME Realty &amp; Management Sdn Bhd (Digulung : 12...</td>\n",
       "      <td>198</td>\n",
       "      <td>161</td>\n",
       "      <td>2013</td>\n",
       "      <td>30.7.2015</td>\n",
       "    </tr>\n",
       "    <tr>\n",
       "      <th>34</th>\n",
       "      <td>35</td>\n",
       "      <td>Terengganu</td>\n",
       "      <td>Taman Kelulut Indah, Marang</td>\n",
       "      <td>Nusajaza Development Sdn Bhd (Digulung : 30.4....</td>\n",
       "      <td>12</td>\n",
       "      <td>4</td>\n",
       "      <td>2012</td>\n",
       "      <td>30.7.2015</td>\n",
       "    </tr>\n",
       "    <tr>\n",
       "      <th>35</th>\n",
       "      <td>36</td>\n",
       "      <td>Terengganu</td>\n",
       "      <td>Taman Dato' Ibrahim, Marang</td>\n",
       "      <td>Nusajaza Development Sdn Bhd (Digulung : 30.4....</td>\n",
       "      <td>109</td>\n",
       "      <td>109</td>\n",
       "      <td>6.12.2009</td>\n",
       "      <td>1.12.2016</td>\n",
       "    </tr>\n",
       "  </tbody>\n",
       "</table>\n",
       "</div>"
      ],
      "text/plain": [
       "    Bil           NEGERI                                             PROJEK  \\\n",
       "0     1            Johor                          Taman Mewah Jaya,Plentong   \n",
       "1     2            Johor                 Taman Tunku Abdul Rahman, Segamat.   \n",
       "2     3            Johor                 Taman Cahaya Perserai, Batu Pahat.   \n",
       "3     4            Kedah             Palma Ria Kondominium, Kuah, Langkawi.   \n",
       "4     5         Kelantan                        Taman MJ Kemuning 2,Machang   \n",
       "5     6         Kelantan                  Taman MJ Desa Kusial, Tanah Merah   \n",
       "6     7         Kelantan                    Taman Perisai Kemuning, Machang   \n",
       "7     8         Kelantan                         Taman MJ Selasih,Pasir Mas   \n",
       "8     9         Kelantan                    Taman MJ Melor Jaya, Kota Bharu   \n",
       "9    10         Kelantan                      Taman MJ Sri Bistari, Machang   \n",
       "10   11         Kelantan                   Taman Seri Jaza Machang, Machang   \n",
       "11   12         Kelantan                    Taman Jaza Perdana, Tanah Merah   \n",
       "12   13         Kelantan             Taman Desa Jaza Lubok Jambu 2, Ketereh   \n",
       "13   14         Kelantan                Taman Jaza Idaman Pak Badol, Bachok   \n",
       "14   15  Negeri Sembilan                       Taman Pinggiran Felda, Gemas   \n",
       "15   16  Negeri Sembilan           Perpaduan Heights Fasa 1 & 2,Kuala Pilah   \n",
       "16   17           Pahang             Perumahan Permatang Shahbandar, Maran.   \n",
       "17   18           Pahang                         Taman Jaza Jasmin, Kuantan   \n",
       "18   19            Perak                           Taman Seri Emas, Kampar.   \n",
       "19   20            Perak                              Taman Diawan,  Kampar   \n",
       "20   21         Selangor                        Taman Bahagia Indah, Kajang   \n",
       "21   22         Selangor             Lembah Beringin,Kerling, Hulu Selangor   \n",
       "22   23         Selangor  Taman Selayang Mutiara,Selayang (dicadangkan u...   \n",
       "23   24         Selangor                           Taman Desa Kencana,Klang   \n",
       "24   25         Selangor                              Lot 1919,Hulu Langat,   \n",
       "25   26         Selangor                   Taman Impian Langat,Hulu Langat,   \n",
       "26   27         Selangor                         Golden Village,      Klang   \n",
       "27   28         Selangor                           Taman Desa Utama, Sepang   \n",
       "28   29         Selangor               Taman Daya (Astana Square), Selayang   \n",
       "29   30         Selangor                                    PK Villa, Klang   \n",
       "30   31         Selangor                                    The Boss, Klang   \n",
       "31   32         Selangor                    Taman Qismul Maya II, Shah Alam   \n",
       "32   33         Selangor                   Taman Qismul Maya III, Shah Alam   \n",
       "33   34       Terengganu               Taman Kemang Tiruk, Kuala Terengganu   \n",
       "34   35       Terengganu                        Taman Kelulut Indah, Marang   \n",
       "35   36       Terengganu                        Taman Dato' Ibrahim, Marang   \n",
       "\n",
       "                                               PEMAJU  BIL_DIBINA  BIL_DIJUAL  \\\n",
       "0                       Kong Sun Construction Sdn Bhd         199         163   \n",
       "1   Vital Landscape Sdn Bhd                       ...          90          63   \n",
       "2   Kitaremas Development Sdn Bhd (digulung : 20/1...          22           6   \n",
       "3   PRJ (M) Sdn Bhd                   \\r\\n(digulun...         108          30   \n",
       "4   MJ Land Properties Sdn Bhd(digulung : 3.10.201...          46          30   \n",
       "5   MJ Land Properties Sdn Bhd(digulung : 3.10.201...          34          34   \n",
       "6   MJ Land Properties Sdn Bhd(digulung : 3.10.201...          20          20   \n",
       "7   MJ Land Properties Sdn Bhd(digulung : 3.10.201...          39          39   \n",
       "8   MJ Land Properties Sdn Bhd(digulung : 3.10.201...          90          90   \n",
       "9   MJ Land Properties Sdn Bhd(digulung : 3.10.201...          55          55   \n",
       "10  Nusajaza Development Sdn Bhd (Digulung : 30.4....          69          69   \n",
       "11  Nusajaza Development Sdn Bhd (Digulung : 30.4....         447         447   \n",
       "12  Nusajaza Development Sdn Bhd (Digulung : 30.4....          71          71   \n",
       "13  Nusajaza Development Sdn Bhd (Digulung : 30.4....          20          20   \n",
       "14  Resolute Fortune Sdn Bhd(digulung : 29.4.2011)...         335         320   \n",
       "15  Kemajuan Perpaduan Sdn Bhd(digulung : 8.5.2012...         231         213   \n",
       "16  Salam Properties Sdn Bhd (digulung : 2012)- Md...          74          19   \n",
       "17  Nusajaza Development Sdn Bhd(digulung : 30.4.2...          86          86   \n",
       "18  Columbia Kinta Sdn Bhd    (digulung : 29.3.199...         154         137   \n",
       "19  Masinda Sdn Bhd        (digulung : 29.3.2017 )...          24          19   \n",
       "20  Bahagia Indah Properties Sdn Bhd              ...         150          94   \n",
       "21  Lembah Beringin Sdn Bhd(digulung : 17.03.2006)...         901         689   \n",
       "22  Delpuri Corporation Sdn Bhd (digulung : 26.9.2...        1436         686   \n",
       "23  Suasana Ehsan (M) Sdn Bhd (digulung : 23.7.201...          37          31   \n",
       "24  Suasana Ehsan (M) Sdn Bhd(digulung : 23.7.2014...          29          29   \n",
       "25  Penchala Properties Sdn Bhd(digulung : 13.7.20...         110          40   \n",
       "26  Chong Hin Development Sdn Bhd '(digulung : 6.1...          84          84   \n",
       "27  Aras Dimensi Sdn Bhd (digulung : 5.1.2012)  St...          10          10   \n",
       "28  Sedaya Sdn Bhd (digulung : 18.6.2010) \\r\\n- CR...         176         170   \n",
       "29  Marl-One Development Sdn Bhd \\r\\n(digulung : 2...          44          40   \n",
       "30  Hotwer Development Sdn Bhd(digulung : 12.4.201...         377         310   \n",
       "31  SPS Setia Sdn Bhd (digulung : 18.5.2017) - Zak...          44          44   \n",
       "32  SPS Setia Sdn Bhd (digulung : 18.5.2017) - Zak...          23          23   \n",
       "33  MME Realty & Management Sdn Bhd (Digulung : 12...         198         161   \n",
       "34  Nusajaza Development Sdn Bhd (Digulung : 30.4....          12           4   \n",
       "35  Nusajaza Development Sdn Bhd (Digulung : 30.4....         109         109   \n",
       "\n",
       "   TARIKH_SEPATUT_SIAP TARIKH_TERBENGKALAI  \n",
       "0                 2005          31.12.2005  \n",
       "1                 2005           16.3.2012  \n",
       "2            21.1.2011           1.12.2016  \n",
       "3                 1999           31.1.2004  \n",
       "4            21.7.2008           30.7.2015  \n",
       "5            20.9.2010           1.12.2016  \n",
       "6            21.7.2008           1.12.2016  \n",
       "7           21.10.2008           1.12.2016  \n",
       "8            18.6.2008           1.12.2016  \n",
       "9            18.9.2010           1.12.2016  \n",
       "10           30.4.2010           1.12.2016  \n",
       "11           30.8.2011           1.12.2016  \n",
       "12           26.8.2012           1.12.2016  \n",
       "13           15.6.2012           1.12.2016  \n",
       "14           20.4.2007           31.1.2017  \n",
       "15                2001          31.12.2006  \n",
       "16           31.1.1996           18.9.2013  \n",
       "17           30.1.2011           1.12.2016  \n",
       "18                1985           18.2.2013  \n",
       "19                1991           16.3.2012  \n",
       "20            1.4.2005           1.12.2016  \n",
       "21                1998          31.12.2001  \n",
       "22           10.3.2006           18.2.2013  \n",
       "23           21.3.2009           22.4.2014  \n",
       "24            5.7.2008           18.9.2013  \n",
       "25           11.7.2006           18.9.2013  \n",
       "26           14.9.2009           18.9.2013  \n",
       "27           26.3.2010           1.12.2016  \n",
       "28                 NaN           1.12.2016  \n",
       "29            8.8.2003           1.12.2016  \n",
       "30          30.12.2013           1.12.2016  \n",
       "31           5.11.2009           1.12.2016  \n",
       "32           5.11.2009           1.12.2016  \n",
       "33                2013           30.7.2015  \n",
       "34                2012           30.7.2015  \n",
       "35           6.12.2009           1.12.2016  "
      ]
     },
     "execution_count": 15,
     "metadata": {},
     "output_type": "execute_result"
    }
   ],
   "source": [
    "alt.Chart(bob).data"
   ]
  },
  {
   "cell_type": "code",
   "execution_count": 20,
   "metadata": {},
   "outputs": [
    {
     "data": {
      "application/vnd.vegalite.v2+json": {
       "$schema": "https://vega.github.io/schema/vega-lite/v2.6.0.json",
       "config": {
        "view": {
         "height": 300,
         "width": 400
        }
       },
       "data": {
        "name": "data-7e1934b3daa9d36be35cf2a9d4d9db1c"
       },
       "datasets": {
        "data-7e1934b3daa9d36be35cf2a9d4d9db1c": [
         {
          "BIL_DIBINA": 199,
          "BIL_DIJUAL": 163,
          "Bil": 1,
          "NEGERI": "Johor",
          "PEMAJU": "Kong Sun Construction Sdn Bhd",
          "PROJEK": "Taman Mewah Jaya,Plentong",
          "TARIKH_SEPATUT_SIAP": "2005",
          "TARIKH_TERBENGKALAI": "31.12.2005"
         },
         {
          "BIL_DIBINA": 90,
          "BIL_DIJUAL": 63,
          "Bil": 2,
          "NEGERI": "Johor",
          "PEMAJU": "Vital Landscape Sdn Bhd                                     \r\n(digulung : 21.9.2015)                                       \r\nPelikuidasi : Jabatan Insolvensi Muar.       ",
          "PROJEK": "Taman Tunku Abdul Rahman, Segamat.",
          "TARIKH_SEPATUT_SIAP": "2005",
          "TARIKH_TERBENGKALAI": "16.3.2012"
         },
         {
          "BIL_DIBINA": 22,
          "BIL_DIJUAL": 6,
          "Bil": 3,
          "NEGERI": "Johor",
          "PEMAJU": "Kitaremas Development Sdn Bhd (digulung : 20/10/17)                                         \r\n- Zakaria Augustine kang Consultancy.",
          "PROJEK": "Taman Cahaya Perserai, Batu Pahat.",
          "TARIKH_SEPATUT_SIAP": "21.1.2011",
          "TARIKH_TERBENGKALAI": "1.12.2016"
         },
         {
          "BIL_DIBINA": 108,
          "BIL_DIJUAL": 30,
          "Bil": 4,
          "NEGERI": "Kedah",
          "PEMAJU": "PRJ (M) Sdn Bhd                   \r\n(digulung : 14.12.2006)     \r\n- Hall Chadwick Corporate Advisory Sdn Bhd                                                          \r\n- Vista Canggih Development.",
          "PROJEK": "Palma Ria Kondominium, Kuah, Langkawi.",
          "TARIKH_SEPATUT_SIAP": "1999",
          "TARIKH_TERBENGKALAI": "31.1.2004"
         },
         {
          "BIL_DIBINA": 46,
          "BIL_DIJUAL": 30,
          "Bil": 5,
          "NEGERI": "Kelantan",
          "PEMAJU": "MJ Land Properties Sdn Bhd(digulung : 3.10.2014)'- MdI W.P K.L(digulung : 26.10.2016)'- Kencana Advisory Corporate",
          "PROJEK": "Taman MJ Kemuning 2,Machang",
          "TARIKH_SEPATUT_SIAP": "21.7.2008",
          "TARIKH_TERBENGKALAI": "30.7.2015"
         },
         {
          "BIL_DIBINA": 34,
          "BIL_DIJUAL": 34,
          "Bil": 6,
          "NEGERI": "Kelantan",
          "PEMAJU": "MJ Land Properties Sdn Bhd(digulung : 3.10.2014)''- MdI W.P K.L' (digulung : 26.10.2016) 'Kencana Advisory Corporate",
          "PROJEK": "Taman MJ Desa Kusial, Tanah Merah",
          "TARIKH_SEPATUT_SIAP": "20.9.2010",
          "TARIKH_TERBENGKALAI": "1.12.2016"
         },
         {
          "BIL_DIBINA": 20,
          "BIL_DIJUAL": 20,
          "Bil": 7,
          "NEGERI": "Kelantan",
          "PEMAJU": "MJ Land Properties Sdn Bhd(digulung : 3.10.2014)'- MdI W.P K.L '(digulung : 26.10.2016) 'Kencana Advisory Corporate",
          "PROJEK": "Taman Perisai Kemuning, Machang",
          "TARIKH_SEPATUT_SIAP": "21.7.2008",
          "TARIKH_TERBENGKALAI": "1.12.2016"
         },
         {
          "BIL_DIBINA": 39,
          "BIL_DIJUAL": 39,
          "Bil": 8,
          "NEGERI": "Kelantan",
          "PEMAJU": "MJ Land Properties Sdn Bhd(digulung : 3.10.2014)'- MdI W.P K.L  '(digulung : 26.10.2016)'Kencana Advisory Corporate",
          "PROJEK": "Taman MJ Selasih,Pasir Mas",
          "TARIKH_SEPATUT_SIAP": "21.10.2008",
          "TARIKH_TERBENGKALAI": "1.12.2016"
         },
         {
          "BIL_DIBINA": 90,
          "BIL_DIJUAL": 90,
          "Bil": 9,
          "NEGERI": "Kelantan",
          "PEMAJU": "MJ Land Properties Sdn Bhd(digulung : 3.10.2014)'- MdI W.P K.L  '(digulung : 26.10.2016)'Kencana Advisory Corporate",
          "PROJEK": "Taman MJ Melor Jaya, Kota Bharu",
          "TARIKH_SEPATUT_SIAP": "18.6.2008",
          "TARIKH_TERBENGKALAI": "1.12.2016"
         },
         {
          "BIL_DIBINA": 55,
          "BIL_DIJUAL": 55,
          "Bil": 10,
          "NEGERI": "Kelantan",
          "PEMAJU": "MJ Land Properties Sdn Bhd(digulung : 3.10.2014)'- MdI W.P K.L  '(digulung : 26.10.2016)'Kencana Advisory Corporate",
          "PROJEK": "Taman MJ Sri Bistari, Machang",
          "TARIKH_SEPATUT_SIAP": "18.9.2010",
          "TARIKH_TERBENGKALAI": "1.12.2016"
         },
         {
          "BIL_DIBINA": 69,
          "BIL_DIJUAL": 69,
          "Bil": 11,
          "NEGERI": "Kelantan",
          "PEMAJU": "Nusajaza Development Sdn Bhd (Digulung : 30.4.2017)'- Kencana Corporate Advisory",
          "PROJEK": "Taman Seri Jaza Machang, Machang",
          "TARIKH_SEPATUT_SIAP": "30.4.2010",
          "TARIKH_TERBENGKALAI": "1.12.2016"
         },
         {
          "BIL_DIBINA": 447,
          "BIL_DIJUAL": 447,
          "Bil": 12,
          "NEGERI": "Kelantan",
          "PEMAJU": "Nusajaza Development Sdn Bhd (Digulung : 30.4.2017)'- Kencana Corporate Advisory",
          "PROJEK": "Taman Jaza Perdana, Tanah Merah",
          "TARIKH_SEPATUT_SIAP": "30.8.2011",
          "TARIKH_TERBENGKALAI": "1.12.2016"
         },
         {
          "BIL_DIBINA": 71,
          "BIL_DIJUAL": 71,
          "Bil": 13,
          "NEGERI": "Kelantan",
          "PEMAJU": "Nusajaza Development Sdn Bhd (Digulung : 30.4.2017)'- Kencana Corporate Advisory",
          "PROJEK": "Taman Desa Jaza Lubok Jambu 2, Ketereh",
          "TARIKH_SEPATUT_SIAP": "26.8.2012",
          "TARIKH_TERBENGKALAI": "1.12.2016"
         },
         {
          "BIL_DIBINA": 20,
          "BIL_DIJUAL": 20,
          "Bil": 14,
          "NEGERI": "Kelantan",
          "PEMAJU": "Nusajaza Development Sdn Bhd (Digulung : 30.4.2017)'- Kencana Corporate Advisory",
          "PROJEK": "Taman Jaza Idaman Pak Badol, Bachok",
          "TARIKH_SEPATUT_SIAP": "15.6.2012",
          "TARIKH_TERBENGKALAI": "1.12.2016"
         },
         {
          "BIL_DIBINA": 335,
          "BIL_DIJUAL": 320,
          "Bil": 15,
          "NEGERI": "Negeri Sembilan",
          "PEMAJU": "Resolute Fortune Sdn Bhd(digulung : 29.4.2011)'- MdI Seremban",
          "PROJEK": "Taman Pinggiran Felda, Gemas",
          "TARIKH_SEPATUT_SIAP": "20.4.2007",
          "TARIKH_TERBENGKALAI": "31.1.2017"
         },
         {
          "BIL_DIBINA": 231,
          "BIL_DIJUAL": 213,
          "Bil": 16,
          "NEGERI": "Negeri Sembilan",
          "PEMAJU": "Kemajuan Perpaduan Sdn Bhd(digulung : 8.5.2012)'- Crowe Horwath Advisory Sdn Bhd",
          "PROJEK": "Perpaduan Heights Fasa 1 & 2,Kuala Pilah",
          "TARIKH_SEPATUT_SIAP": "2001",
          "TARIKH_TERBENGKALAI": "31.12.2006"
         },
         {
          "BIL_DIBINA": 74,
          "BIL_DIJUAL": 19,
          "Bil": 17,
          "NEGERI": "Pahang",
          "PEMAJU": "Salam Properties Sdn Bhd (digulung : 2012)- Mdi Selangor (digulung : ) - StevenZac Consulting Sdn Bhd",
          "PROJEK": "Perumahan Permatang Shahbandar, Maran.",
          "TARIKH_SEPATUT_SIAP": "31.1.1996",
          "TARIKH_TERBENGKALAI": "18.9.2013"
         },
         {
          "BIL_DIBINA": 86,
          "BIL_DIJUAL": 86,
          "Bil": 18,
          "NEGERI": "Pahang",
          "PEMAJU": "Nusajaza Development Sdn Bhd(digulung : 30.4.2017) '- Pelikuidasi - Kencana Corporate Advisory",
          "PROJEK": "Taman Jaza Jasmin, Kuantan",
          "TARIKH_SEPATUT_SIAP": "30.1.2011",
          "TARIKH_TERBENGKALAI": "1.12.2016"
         },
         {
          "BIL_DIBINA": 154,
          "BIL_DIJUAL": 137,
          "Bil": 19,
          "NEGERI": "Perak",
          "PEMAJU": "Columbia Kinta Sdn Bhd    (digulung : 29.3.1990)       \r\n - Rimbun Corporate Advisory Sdn Bhd",
          "PROJEK": "Taman Seri Emas, Kampar.",
          "TARIKH_SEPATUT_SIAP": "1985",
          "TARIKH_TERBENGKALAI": "18.2.2013"
         },
         {
          "BIL_DIBINA": 24,
          "BIL_DIJUAL": 19,
          "Bil": 20,
          "NEGERI": "Perak",
          "PEMAJU": "Masinda Sdn Bhd        (digulung : 29.3.2017 )'- MNZWAJ Associates   ",
          "PROJEK": "Taman Diawan,  Kampar",
          "TARIKH_SEPATUT_SIAP": "1991",
          "TARIKH_TERBENGKALAI": "16.3.2012"
         },
         {
          "BIL_DIBINA": 150,
          "BIL_DIJUAL": 94,
          "Bil": 21,
          "NEGERI": "Selangor",
          "PEMAJU": "Bahagia Indah Properties Sdn Bhd                     \r\n(digulung : )- Satria Advisory Sdn Bhd",
          "PROJEK": "Taman Bahagia Indah, Kajang",
          "TARIKH_SEPATUT_SIAP": "1.4.2005",
          "TARIKH_TERBENGKALAI": "1.12.2016"
         },
         {
          "BIL_DIBINA": 901,
          "BIL_DIJUAL": 689,
          "Bil": 22,
          "NEGERI": "Selangor",
          "PEMAJU": "Lembah Beringin Sdn Bhd(digulung : 17.03.2006)'- Ferrior Hudgson Sdn Bhd '                  \r\n- Punari sdn Bhd(Pemaju Penyelamat)",
          "PROJEK": "Lembah Beringin,Kerling, Hulu Selangor",
          "TARIKH_SEPATUT_SIAP": "1998",
          "TARIKH_TERBENGKALAI": "31.12.2001"
         },
         {
          "BIL_DIBINA": 1436,
          "BIL_DIJUAL": 686,
          "Bil": 23,
          "NEGERI": "Selangor",
          "PEMAJU": "Delpuri Corporation Sdn Bhd (digulung : 26.9.2014)'                            - Hall Chadwick Corporate Advisory Sdn Bhd",
          "PROJEK": "Taman Selayang Mutiara,Selayang (dicadangkan untuk dipulihkan dengan Dana Kerajaan)",
          "TARIKH_SEPATUT_SIAP": "10.3.2006",
          "TARIKH_TERBENGKALAI": "18.2.2013"
         },
         {
          "BIL_DIBINA": 37,
          "BIL_DIJUAL": 31,
          "Bil": 24,
          "NEGERI": "Selangor",
          "PEMAJU": "Suasana Ehsan (M) Sdn Bhd (digulung : 23.7.2014)'                              \r\n- Augustin James & Co.",
          "PROJEK": "Taman Desa Kencana,Klang",
          "TARIKH_SEPATUT_SIAP": "21.3.2009",
          "TARIKH_TERBENGKALAI": "22.4.2014"
         },
         {
          "BIL_DIBINA": 29,
          "BIL_DIJUAL": 29,
          "Bil": 25,
          "NEGERI": "Selangor",
          "PEMAJU": "Suasana Ehsan (M) Sdn Bhd(digulung : 23.7.2014) - Augustin James & Co.",
          "PROJEK": "Lot 1919,Hulu Langat,",
          "TARIKH_SEPATUT_SIAP": "5.7.2008",
          "TARIKH_TERBENGKALAI": "18.9.2013"
         },
         {
          "BIL_DIBINA": 110,
          "BIL_DIJUAL": 40,
          "Bil": 26,
          "NEGERI": "Selangor",
          "PEMAJU": "Penchala Properties Sdn Bhd(digulung : 13.7.2015)'-            MDI WP. KL.",
          "PROJEK": "Taman Impian Langat,Hulu Langat,",
          "TARIKH_SEPATUT_SIAP": "11.7.2006",
          "TARIKH_TERBENGKALAI": "18.9.2013"
         },
         {
          "BIL_DIBINA": 84,
          "BIL_DIJUAL": 84,
          "Bil": 27,
          "NEGERI": "Selangor",
          "PEMAJU": "Chong Hin Development Sdn Bhd '(digulung : 6.12.2012 )'- StevenZac Consulting Sdn Bhd",
          "PROJEK": "Golden Village,      Klang",
          "TARIKH_SEPATUT_SIAP": "14.9.2009",
          "TARIKH_TERBENGKALAI": "18.9.2013"
         },
         {
          "BIL_DIBINA": 10,
          "BIL_DIJUAL": 10,
          "Bil": 28,
          "NEGERI": "Selangor",
          "PEMAJU": "Aras Dimensi Sdn Bhd (digulung : 5.1.2012)  StevenZac Consulting Sdn Bhd",
          "PROJEK": "Taman Desa Utama, Sepang",
          "TARIKH_SEPATUT_SIAP": "26.3.2010",
          "TARIKH_TERBENGKALAI": "1.12.2016"
         },
         {
          "BIL_DIBINA": 176,
          "BIL_DIJUAL": 170,
          "Bil": 29,
          "NEGERI": "Selangor",
          "PEMAJU": "Sedaya Sdn Bhd (digulung : 18.6.2010) \r\n- CRS Advisory Sdn Bhd",
          "PROJEK": "Taman Daya (Astana Square), Selayang",
          "TARIKH_SEPATUT_SIAP": null,
          "TARIKH_TERBENGKALAI": "1.12.2016"
         },
         {
          "BIL_DIBINA": 44,
          "BIL_DIJUAL": 40,
          "Bil": 30,
          "NEGERI": "Selangor",
          "PEMAJU": "Marl-One Development Sdn Bhd \r\n(digulung : 20.2.2014)'   \r\n- SL Ng Associates'Hotwer Development Sdn Bhd(digulung : 12.4.2012)' \r\n- KPMG Corporate",
          "PROJEK": "PK Villa, Klang",
          "TARIKH_SEPATUT_SIAP": "8.8.2003",
          "TARIKH_TERBENGKALAI": "1.12.2016"
         },
         {
          "BIL_DIBINA": 377,
          "BIL_DIJUAL": 310,
          "Bil": 31,
          "NEGERI": "Selangor",
          "PEMAJU": "Hotwer Development Sdn Bhd(digulung : 12.4.2012) - KPMG Corporate",
          "PROJEK": "The Boss, Klang",
          "TARIKH_SEPATUT_SIAP": "30.12.2013",
          "TARIKH_TERBENGKALAI": "1.12.2016"
         },
         {
          "BIL_DIBINA": 44,
          "BIL_DIJUAL": 44,
          "Bil": 32,
          "NEGERI": "Selangor",
          "PEMAJU": "SPS Setia Sdn Bhd (digulung : 18.5.2017) - Zakaria Augustine Kang \r\nPemaju penyelamat : Kompobina Holding",
          "PROJEK": "Taman Qismul Maya II, Shah Alam",
          "TARIKH_SEPATUT_SIAP": "5.11.2009",
          "TARIKH_TERBENGKALAI": "1.12.2016"
         },
         {
          "BIL_DIBINA": 23,
          "BIL_DIJUAL": 23,
          "Bil": 33,
          "NEGERI": "Selangor",
          "PEMAJU": "SPS Setia Sdn Bhd (digulung : 18.5.2017) - Zakaria Augustine Kang                                                \r\nPemaju Penyelamat : Setia Jutamas",
          "PROJEK": "Taman Qismul Maya III, Shah Alam",
          "TARIKH_SEPATUT_SIAP": "5.11.2009",
          "TARIKH_TERBENGKALAI": "1.12.2016"
         },
         {
          "BIL_DIBINA": 198,
          "BIL_DIJUAL": 161,
          "Bil": 34,
          "NEGERI": "Terengganu",
          "PEMAJU": "MME Realty & Management Sdn Bhd (Digulung : 12.01.2017)' - MDI Caw. KL        ",
          "PROJEK": "Taman Kemang Tiruk, Kuala Terengganu",
          "TARIKH_SEPATUT_SIAP": "2013",
          "TARIKH_TERBENGKALAI": "30.7.2015"
         },
         {
          "BIL_DIBINA": 12,
          "BIL_DIJUAL": 4,
          "Bil": 35,
          "NEGERI": "Terengganu",
          "PEMAJU": "Nusajaza Development Sdn Bhd (Digulung : 30.4.2017) - Kencana Corporate Advisory",
          "PROJEK": "Taman Kelulut Indah, Marang",
          "TARIKH_SEPATUT_SIAP": "2012",
          "TARIKH_TERBENGKALAI": "30.7.2015"
         },
         {
          "BIL_DIBINA": 109,
          "BIL_DIJUAL": 109,
          "Bil": 36,
          "NEGERI": "Terengganu",
          "PEMAJU": "Nusajaza Development Sdn Bhd (Digulung : 30.4.2017) - Kencana Corporate Advisory",
          "PROJEK": "Taman Dato' Ibrahim, Marang",
          "TARIKH_SEPATUT_SIAP": "6.12.2009",
          "TARIKH_TERBENGKALAI": "1.12.2016"
         }
        ]
       },
       "encoding": {
        "color": {
         "field": "PEMAJU",
         "type": "nominal"
        },
        "x": {
         "field": "BIL_DIJUAL",
         "type": "quantitative"
        },
        "y": {
         "field": "NEGERI",
         "type": "nominal"
        }
       },
       "mark": "point"
      },
      "image/png": "[encoded data removed]",
      "text/plain": [
       "<VegaLite 2 object>\n",
       "\n",
       "If you see this message, it means the renderer has not been properly enabled\n",
       "for the frontend that you are using. For more information, see\n",
       "https://altair-viz.github.io/user_guide/troubleshooting.html\n"
      ]
     },
     "execution_count": 20,
     "metadata": {},
     "output_type": "execute_result"
    }
   ],
   "source": [
    "alt.Chart(bob).mark_point().encode(\n",
    "    y='NEGERI',\n",
    "    x='BIL_DIJUAL',\n",
    "    color='PEMAJU'\n",
    ")"
   ]
  },
  {
   "cell_type": "code",
   "execution_count": 37,
   "metadata": {},
   "outputs": [
    {
     "data": {
      "text/html": [
       "<div>\n",
       "<style scoped>\n",
       "    .dataframe tbody tr th:only-of-type {\n",
       "        vertical-align: middle;\n",
       "    }\n",
       "\n",
       "    .dataframe tbody tr th {\n",
       "        vertical-align: top;\n",
       "    }\n",
       "\n",
       "    .dataframe thead th {\n",
       "        text-align: right;\n",
       "    }\n",
       "</style>\n",
       "<table border=\"1\" class=\"dataframe\">\n",
       "  <thead>\n",
       "    <tr style=\"text-align: right;\">\n",
       "      <th></th>\n",
       "      <th>Bil</th>\n",
       "      <th>NEGERI</th>\n",
       "      <th>PROJEK</th>\n",
       "      <th>PEMAJU</th>\n",
       "      <th>BIL_DIBINA</th>\n",
       "      <th>BIL_DIJUAL</th>\n",
       "      <th>TARIKH_SEPATUT_SIAP</th>\n",
       "      <th>TARIKH_TERBENGKALAI</th>\n",
       "    </tr>\n",
       "  </thead>\n",
       "  <tbody>\n",
       "    <tr>\n",
       "      <th>30</th>\n",
       "      <td>31</td>\n",
       "      <td>Selangor</td>\n",
       "      <td>The Boss, Klang</td>\n",
       "      <td>Hotwer Development Sdn Bhd(digulung : 12.4.201...</td>\n",
       "      <td>377</td>\n",
       "      <td>310</td>\n",
       "      <td>30.12.2013</td>\n",
       "      <td>1.12.2016</td>\n",
       "    </tr>\n",
       "    <tr>\n",
       "      <th>31</th>\n",
       "      <td>32</td>\n",
       "      <td>Selangor</td>\n",
       "      <td>Taman Qismul Maya II, Shah Alam</td>\n",
       "      <td>SPS Setia Sdn Bhd (digulung : 18.5.2017) - Zak...</td>\n",
       "      <td>44</td>\n",
       "      <td>44</td>\n",
       "      <td>5.11.2009</td>\n",
       "      <td>1.12.2016</td>\n",
       "    </tr>\n",
       "    <tr>\n",
       "      <th>32</th>\n",
       "      <td>33</td>\n",
       "      <td>Selangor</td>\n",
       "      <td>Taman Qismul Maya III, Shah Alam</td>\n",
       "      <td>SPS Setia Sdn Bhd (digulung : 18.5.2017) - Zak...</td>\n",
       "      <td>23</td>\n",
       "      <td>23</td>\n",
       "      <td>5.11.2009</td>\n",
       "      <td>1.12.2016</td>\n",
       "    </tr>\n",
       "    <tr>\n",
       "      <th>33</th>\n",
       "      <td>34</td>\n",
       "      <td>Terengganu</td>\n",
       "      <td>Taman Kemang Tiruk, Kuala Terengganu</td>\n",
       "      <td>MME Realty &amp; Management Sdn Bhd (Digulung : 12...</td>\n",
       "      <td>198</td>\n",
       "      <td>161</td>\n",
       "      <td>2013</td>\n",
       "      <td>30.7.2015</td>\n",
       "    </tr>\n",
       "    <tr>\n",
       "      <th>34</th>\n",
       "      <td>35</td>\n",
       "      <td>Terengganu</td>\n",
       "      <td>Taman Kelulut Indah, Marang</td>\n",
       "      <td>Nusajaza Development Sdn Bhd (Digulung : 30.4....</td>\n",
       "      <td>12</td>\n",
       "      <td>4</td>\n",
       "      <td>2012</td>\n",
       "      <td>30.7.2015</td>\n",
       "    </tr>\n",
       "    <tr>\n",
       "      <th>35</th>\n",
       "      <td>36</td>\n",
       "      <td>Terengganu</td>\n",
       "      <td>Taman Dato' Ibrahim, Marang</td>\n",
       "      <td>Nusajaza Development Sdn Bhd (Digulung : 30.4....</td>\n",
       "      <td>109</td>\n",
       "      <td>109</td>\n",
       "      <td>6.12.2009</td>\n",
       "      <td>1.12.2016</td>\n",
       "    </tr>\n",
       "  </tbody>\n",
       "</table>\n",
       "</div>"
      ],
      "text/plain": [
       "    Bil      NEGERI                                PROJEK  \\\n",
       "30   31    Selangor                       The Boss, Klang   \n",
       "31   32    Selangor       Taman Qismul Maya II, Shah Alam   \n",
       "32   33    Selangor      Taman Qismul Maya III, Shah Alam   \n",
       "33   34  Terengganu  Taman Kemang Tiruk, Kuala Terengganu   \n",
       "34   35  Terengganu           Taman Kelulut Indah, Marang   \n",
       "35   36  Terengganu           Taman Dato' Ibrahim, Marang   \n",
       "\n",
       "                                               PEMAJU  BIL_DIBINA  BIL_DIJUAL  \\\n",
       "30  Hotwer Development Sdn Bhd(digulung : 12.4.201...         377         310   \n",
       "31  SPS Setia Sdn Bhd (digulung : 18.5.2017) - Zak...          44          44   \n",
       "32  SPS Setia Sdn Bhd (digulung : 18.5.2017) - Zak...          23          23   \n",
       "33  MME Realty & Management Sdn Bhd (Digulung : 12...         198         161   \n",
       "34  Nusajaza Development Sdn Bhd (Digulung : 30.4....          12           4   \n",
       "35  Nusajaza Development Sdn Bhd (Digulung : 30.4....         109         109   \n",
       "\n",
       "   TARIKH_SEPATUT_SIAP TARIKH_TERBENGKALAI  \n",
       "30          30.12.2013           1.12.2016  \n",
       "31           5.11.2009           1.12.2016  \n",
       "32           5.11.2009           1.12.2016  \n",
       "33                2013           30.7.2015  \n",
       "34                2012           30.7.2015  \n",
       "35           6.12.2009           1.12.2016  "
      ]
     },
     "execution_count": 37,
     "metadata": {},
     "output_type": "execute_result"
    }
   ],
   "source": [
    "bob.loc[30:]"
   ]
  },
  {
   "cell_type": "code",
   "execution_count": 46,
   "metadata": {},
   "outputs": [
    {
     "data": {
      "text/plain": [
       "Index(['Bil', 'NEGERI', 'PROJEK', 'PEMAJU', 'BIL_DIBINA', 'BIL_DIJUAL',\n",
       "       'TARIKH_SEPATUT_SIAP', 'TARIKH_TERBENGKALAI'],\n",
       "      dtype='object')"
      ]
     },
     "execution_count": 46,
     "metadata": {},
     "output_type": "execute_result"
    }
   ],
   "source": [
    "proj.columns"
   ]
  },
  {
   "cell_type": "code",
   "execution_count": 52,
   "metadata": {},
   "outputs": [
    {
     "data": {
      "text/html": [
       "<div>\n",
       "<style scoped>\n",
       "    .dataframe tbody tr th:only-of-type {\n",
       "        vertical-align: middle;\n",
       "    }\n",
       "\n",
       "    .dataframe tbody tr th {\n",
       "        vertical-align: top;\n",
       "    }\n",
       "\n",
       "    .dataframe thead th {\n",
       "        text-align: right;\n",
       "    }\n",
       "</style>\n",
       "<table border=\"1\" class=\"dataframe\">\n",
       "  <thead>\n",
       "    <tr style=\"text-align: right;\">\n",
       "      <th></th>\n",
       "      <th>Bil</th>\n",
       "      <th>NEGERI</th>\n",
       "      <th>PROJEK</th>\n",
       "      <th>PEMAJU</th>\n",
       "      <th>BIL_DIBINA</th>\n",
       "      <th>BIL_DIJUAL</th>\n",
       "      <th>TARIKH_SEPATUT_SIAP</th>\n",
       "      <th>TARIKH_TERBENGKALAI</th>\n",
       "    </tr>\n",
       "  </thead>\n",
       "  <tbody>\n",
       "    <tr>\n",
       "      <th>31</th>\n",
       "      <td>32</td>\n",
       "      <td>Selangor</td>\n",
       "      <td>Taman Qismul Maya II, Shah Alam</td>\n",
       "      <td>SPS Setia Sdn Bhd (digulung : 18.5.2017) - Zak...</td>\n",
       "      <td>44</td>\n",
       "      <td>44</td>\n",
       "      <td>5.11.2009</td>\n",
       "      <td>1.12.2016</td>\n",
       "    </tr>\n",
       "    <tr>\n",
       "      <th>32</th>\n",
       "      <td>33</td>\n",
       "      <td>Selangor</td>\n",
       "      <td>Taman Qismul Maya III, Shah Alam</td>\n",
       "      <td>SPS Setia Sdn Bhd (digulung : 18.5.2017) - Zak...</td>\n",
       "      <td>23</td>\n",
       "      <td>23</td>\n",
       "      <td>5.11.2009</td>\n",
       "      <td>1.12.2016</td>\n",
       "    </tr>\n",
       "    <tr>\n",
       "      <th>33</th>\n",
       "      <td>34</td>\n",
       "      <td>Terengganu</td>\n",
       "      <td>Taman Kemang Tiruk, Kuala Terengganu</td>\n",
       "      <td>MME Realty &amp; Management Sdn Bhd (Digulung : 12...</td>\n",
       "      <td>198</td>\n",
       "      <td>161</td>\n",
       "      <td>2013</td>\n",
       "      <td>30.7.2015</td>\n",
       "    </tr>\n",
       "    <tr>\n",
       "      <th>34</th>\n",
       "      <td>35</td>\n",
       "      <td>Terengganu</td>\n",
       "      <td>Taman Kelulut Indah, Marang</td>\n",
       "      <td>Nusajaza Development Sdn Bhd (Digulung : 30.4....</td>\n",
       "      <td>12</td>\n",
       "      <td>4</td>\n",
       "      <td>2012</td>\n",
       "      <td>30.7.2015</td>\n",
       "    </tr>\n",
       "    <tr>\n",
       "      <th>35</th>\n",
       "      <td>36</td>\n",
       "      <td>Terengganu</td>\n",
       "      <td>Taman Dato' Ibrahim, Marang</td>\n",
       "      <td>Nusajaza Development Sdn Bhd (Digulung : 30.4....</td>\n",
       "      <td>109</td>\n",
       "      <td>109</td>\n",
       "      <td>6.12.2009</td>\n",
       "      <td>1.12.2016</td>\n",
       "    </tr>\n",
       "  </tbody>\n",
       "</table>\n",
       "</div>"
      ],
      "text/plain": [
       "    Bil      NEGERI                                PROJEK  \\\n",
       "31   32    Selangor       Taman Qismul Maya II, Shah Alam   \n",
       "32   33    Selangor      Taman Qismul Maya III, Shah Alam   \n",
       "33   34  Terengganu  Taman Kemang Tiruk, Kuala Terengganu   \n",
       "34   35  Terengganu           Taman Kelulut Indah, Marang   \n",
       "35   36  Terengganu           Taman Dato' Ibrahim, Marang   \n",
       "\n",
       "                                               PEMAJU  BIL_DIBINA  BIL_DIJUAL  \\\n",
       "31  SPS Setia Sdn Bhd (digulung : 18.5.2017) - Zak...          44          44   \n",
       "32  SPS Setia Sdn Bhd (digulung : 18.5.2017) - Zak...          23          23   \n",
       "33  MME Realty & Management Sdn Bhd (Digulung : 12...         198         161   \n",
       "34  Nusajaza Development Sdn Bhd (Digulung : 30.4....          12           4   \n",
       "35  Nusajaza Development Sdn Bhd (Digulung : 30.4....         109         109   \n",
       "\n",
       "   TARIKH_SEPATUT_SIAP TARIKH_TERBENGKALAI  \n",
       "31           5.11.2009           1.12.2016  \n",
       "32           5.11.2009           1.12.2016  \n",
       "33                2013           30.7.2015  \n",
       "34                2012           30.7.2015  \n",
       "35           6.12.2009           1.12.2016  "
      ]
     },
     "execution_count": 52,
     "metadata": {},
     "output_type": "execute_result"
    }
   ],
   "source": [
    "proj.tail()"
   ]
  },
  {
   "cell_type": "code",
   "execution_count": 56,
   "metadata": {},
   "outputs": [
    {
     "data": {
      "application/vnd.vegalite.v2+json": {
       "$schema": "https://vega.github.io/schema/vega-lite/v2.6.0.json",
       "config": {
        "view": {
         "height": 300,
         "width": 400
        }
       },
       "data": {
        "name": "data-7e1934b3daa9d36be35cf2a9d4d9db1c"
       },
       "datasets": {
        "data-7e1934b3daa9d36be35cf2a9d4d9db1c": [
         {
          "BIL_DIBINA": 199,
          "BIL_DIJUAL": 163,
          "Bil": 1,
          "NEGERI": "Johor",
          "PEMAJU": "Kong Sun Construction Sdn Bhd",
          "PROJEK": "Taman Mewah Jaya,Plentong",
          "TARIKH_SEPATUT_SIAP": "2005",
          "TARIKH_TERBENGKALAI": "31.12.2005"
         },
         {
          "BIL_DIBINA": 90,
          "BIL_DIJUAL": 63,
          "Bil": 2,
          "NEGERI": "Johor",
          "PEMAJU": "Vital Landscape Sdn Bhd                                     \r\n(digulung : 21.9.2015)                                       \r\nPelikuidasi : Jabatan Insolvensi Muar.       ",
          "PROJEK": "Taman Tunku Abdul Rahman, Segamat.",
          "TARIKH_SEPATUT_SIAP": "2005",
          "TARIKH_TERBENGKALAI": "16.3.2012"
         },
         {
          "BIL_DIBINA": 22,
          "BIL_DIJUAL": 6,
          "Bil": 3,
          "NEGERI": "Johor",
          "PEMAJU": "Kitaremas Development Sdn Bhd (digulung : 20/10/17)                                         \r\n- Zakaria Augustine kang Consultancy.",
          "PROJEK": "Taman Cahaya Perserai, Batu Pahat.",
          "TARIKH_SEPATUT_SIAP": "21.1.2011",
          "TARIKH_TERBENGKALAI": "1.12.2016"
         },
         {
          "BIL_DIBINA": 108,
          "BIL_DIJUAL": 30,
          "Bil": 4,
          "NEGERI": "Kedah",
          "PEMAJU": "PRJ (M) Sdn Bhd                   \r\n(digulung : 14.12.2006)     \r\n- Hall Chadwick Corporate Advisory Sdn Bhd                                                          \r\n- Vista Canggih Development.",
          "PROJEK": "Palma Ria Kondominium, Kuah, Langkawi.",
          "TARIKH_SEPATUT_SIAP": "1999",
          "TARIKH_TERBENGKALAI": "31.1.2004"
         },
         {
          "BIL_DIBINA": 46,
          "BIL_DIJUAL": 30,
          "Bil": 5,
          "NEGERI": "Kelantan",
          "PEMAJU": "MJ Land Properties Sdn Bhd(digulung : 3.10.2014)'- MdI W.P K.L(digulung : 26.10.2016)'- Kencana Advisory Corporate",
          "PROJEK": "Taman MJ Kemuning 2,Machang",
          "TARIKH_SEPATUT_SIAP": "21.7.2008",
          "TARIKH_TERBENGKALAI": "30.7.2015"
         },
         {
          "BIL_DIBINA": 34,
          "BIL_DIJUAL": 34,
          "Bil": 6,
          "NEGERI": "Kelantan",
          "PEMAJU": "MJ Land Properties Sdn Bhd(digulung : 3.10.2014)''- MdI W.P K.L' (digulung : 26.10.2016) 'Kencana Advisory Corporate",
          "PROJEK": "Taman MJ Desa Kusial, Tanah Merah",
          "TARIKH_SEPATUT_SIAP": "20.9.2010",
          "TARIKH_TERBENGKALAI": "1.12.2016"
         },
         {
          "BIL_DIBINA": 20,
          "BIL_DIJUAL": 20,
          "Bil": 7,
          "NEGERI": "Kelantan",
          "PEMAJU": "MJ Land Properties Sdn Bhd(digulung : 3.10.2014)'- MdI W.P K.L '(digulung : 26.10.2016) 'Kencana Advisory Corporate",
          "PROJEK": "Taman Perisai Kemuning, Machang",
          "TARIKH_SEPATUT_SIAP": "21.7.2008",
          "TARIKH_TERBENGKALAI": "1.12.2016"
         },
         {
          "BIL_DIBINA": 39,
          "BIL_DIJUAL": 39,
          "Bil": 8,
          "NEGERI": "Kelantan",
          "PEMAJU": "MJ Land Properties Sdn Bhd(digulung : 3.10.2014)'- MdI W.P K.L  '(digulung : 26.10.2016)'Kencana Advisory Corporate",
          "PROJEK": "Taman MJ Selasih,Pasir Mas",
          "TARIKH_SEPATUT_SIAP": "21.10.2008",
          "TARIKH_TERBENGKALAI": "1.12.2016"
         },
         {
          "BIL_DIBINA": 90,
          "BIL_DIJUAL": 90,
          "Bil": 9,
          "NEGERI": "Kelantan",
          "PEMAJU": "MJ Land Properties Sdn Bhd(digulung : 3.10.2014)'- MdI W.P K.L  '(digulung : 26.10.2016)'Kencana Advisory Corporate",
          "PROJEK": "Taman MJ Melor Jaya, Kota Bharu",
          "TARIKH_SEPATUT_SIAP": "18.6.2008",
          "TARIKH_TERBENGKALAI": "1.12.2016"
         },
         {
          "BIL_DIBINA": 55,
          "BIL_DIJUAL": 55,
          "Bil": 10,
          "NEGERI": "Kelantan",
          "PEMAJU": "MJ Land Properties Sdn Bhd(digulung : 3.10.2014)'- MdI W.P K.L  '(digulung : 26.10.2016)'Kencana Advisory Corporate",
          "PROJEK": "Taman MJ Sri Bistari, Machang",
          "TARIKH_SEPATUT_SIAP": "18.9.2010",
          "TARIKH_TERBENGKALAI": "1.12.2016"
         },
         {
          "BIL_DIBINA": 69,
          "BIL_DIJUAL": 69,
          "Bil": 11,
          "NEGERI": "Kelantan",
          "PEMAJU": "Nusajaza Development Sdn Bhd (Digulung : 30.4.2017)'- Kencana Corporate Advisory",
          "PROJEK": "Taman Seri Jaza Machang, Machang",
          "TARIKH_SEPATUT_SIAP": "30.4.2010",
          "TARIKH_TERBENGKALAI": "1.12.2016"
         },
         {
          "BIL_DIBINA": 447,
          "BIL_DIJUAL": 447,
          "Bil": 12,
          "NEGERI": "Kelantan",
          "PEMAJU": "Nusajaza Development Sdn Bhd (Digulung : 30.4.2017)'- Kencana Corporate Advisory",
          "PROJEK": "Taman Jaza Perdana, Tanah Merah",
          "TARIKH_SEPATUT_SIAP": "30.8.2011",
          "TARIKH_TERBENGKALAI": "1.12.2016"
         },
         {
          "BIL_DIBINA": 71,
          "BIL_DIJUAL": 71,
          "Bil": 13,
          "NEGERI": "Kelantan",
          "PEMAJU": "Nusajaza Development Sdn Bhd (Digulung : 30.4.2017)'- Kencana Corporate Advisory",
          "PROJEK": "Taman Desa Jaza Lubok Jambu 2, Ketereh",
          "TARIKH_SEPATUT_SIAP": "26.8.2012",
          "TARIKH_TERBENGKALAI": "1.12.2016"
         },
         {
          "BIL_DIBINA": 20,
          "BIL_DIJUAL": 20,
          "Bil": 14,
          "NEGERI": "Kelantan",
          "PEMAJU": "Nusajaza Development Sdn Bhd (Digulung : 30.4.2017)'- Kencana Corporate Advisory",
          "PROJEK": "Taman Jaza Idaman Pak Badol, Bachok",
          "TARIKH_SEPATUT_SIAP": "15.6.2012",
          "TARIKH_TERBENGKALAI": "1.12.2016"
         },
         {
          "BIL_DIBINA": 335,
          "BIL_DIJUAL": 320,
          "Bil": 15,
          "NEGERI": "Negeri Sembilan",
          "PEMAJU": "Resolute Fortune Sdn Bhd(digulung : 29.4.2011)'- MdI Seremban",
          "PROJEK": "Taman Pinggiran Felda, Gemas",
          "TARIKH_SEPATUT_SIAP": "20.4.2007",
          "TARIKH_TERBENGKALAI": "31.1.2017"
         },
         {
          "BIL_DIBINA": 231,
          "BIL_DIJUAL": 213,
          "Bil": 16,
          "NEGERI": "Negeri Sembilan",
          "PEMAJU": "Kemajuan Perpaduan Sdn Bhd(digulung : 8.5.2012)'- Crowe Horwath Advisory Sdn Bhd",
          "PROJEK": "Perpaduan Heights Fasa 1 & 2,Kuala Pilah",
          "TARIKH_SEPATUT_SIAP": "2001",
          "TARIKH_TERBENGKALAI": "31.12.2006"
         },
         {
          "BIL_DIBINA": 74,
          "BIL_DIJUAL": 19,
          "Bil": 17,
          "NEGERI": "Pahang",
          "PEMAJU": "Salam Properties Sdn Bhd (digulung : 2012)- Mdi Selangor (digulung : ) - StevenZac Consulting Sdn Bhd",
          "PROJEK": "Perumahan Permatang Shahbandar, Maran.",
          "TARIKH_SEPATUT_SIAP": "31.1.1996",
          "TARIKH_TERBENGKALAI": "18.9.2013"
         },
         {
          "BIL_DIBINA": 86,
          "BIL_DIJUAL": 86,
          "Bil": 18,
          "NEGERI": "Pahang",
          "PEMAJU": "Nusajaza Development Sdn Bhd(digulung : 30.4.2017) '- Pelikuidasi - Kencana Corporate Advisory",
          "PROJEK": "Taman Jaza Jasmin, Kuantan",
          "TARIKH_SEPATUT_SIAP": "30.1.2011",
          "TARIKH_TERBENGKALAI": "1.12.2016"
         },
         {
          "BIL_DIBINA": 154,
          "BIL_DIJUAL": 137,
          "Bil": 19,
          "NEGERI": "Perak",
          "PEMAJU": "Columbia Kinta Sdn Bhd    (digulung : 29.3.1990)       \r\n - Rimbun Corporate Advisory Sdn Bhd",
          "PROJEK": "Taman Seri Emas, Kampar.",
          "TARIKH_SEPATUT_SIAP": "1985",
          "TARIKH_TERBENGKALAI": "18.2.2013"
         },
         {
          "BIL_DIBINA": 24,
          "BIL_DIJUAL": 19,
          "Bil": 20,
          "NEGERI": "Perak",
          "PEMAJU": "Masinda Sdn Bhd        (digulung : 29.3.2017 )'- MNZWAJ Associates   ",
          "PROJEK": "Taman Diawan,  Kampar",
          "TARIKH_SEPATUT_SIAP": "1991",
          "TARIKH_TERBENGKALAI": "16.3.2012"
         },
         {
          "BIL_DIBINA": 150,
          "BIL_DIJUAL": 94,
          "Bil": 21,
          "NEGERI": "Selangor",
          "PEMAJU": "Bahagia Indah Properties Sdn Bhd                     \r\n(digulung : )- Satria Advisory Sdn Bhd",
          "PROJEK": "Taman Bahagia Indah, Kajang",
          "TARIKH_SEPATUT_SIAP": "1.4.2005",
          "TARIKH_TERBENGKALAI": "1.12.2016"
         },
         {
          "BIL_DIBINA": 901,
          "BIL_DIJUAL": 689,
          "Bil": 22,
          "NEGERI": "Selangor",
          "PEMAJU": "Lembah Beringin Sdn Bhd(digulung : 17.03.2006)'- Ferrior Hudgson Sdn Bhd '                  \r\n- Punari sdn Bhd(Pemaju Penyelamat)",
          "PROJEK": "Lembah Beringin,Kerling, Hulu Selangor",
          "TARIKH_SEPATUT_SIAP": "1998",
          "TARIKH_TERBENGKALAI": "31.12.2001"
         },
         {
          "BIL_DIBINA": 1436,
          "BIL_DIJUAL": 686,
          "Bil": 23,
          "NEGERI": "Selangor",
          "PEMAJU": "Delpuri Corporation Sdn Bhd (digulung : 26.9.2014)'                            - Hall Chadwick Corporate Advisory Sdn Bhd",
          "PROJEK": "Taman Selayang Mutiara,Selayang (dicadangkan untuk dipulihkan dengan Dana Kerajaan)",
          "TARIKH_SEPATUT_SIAP": "10.3.2006",
          "TARIKH_TERBENGKALAI": "18.2.2013"
         },
         {
          "BIL_DIBINA": 37,
          "BIL_DIJUAL": 31,
          "Bil": 24,
          "NEGERI": "Selangor",
          "PEMAJU": "Suasana Ehsan (M) Sdn Bhd (digulung : 23.7.2014)'                              \r\n- Augustin James & Co.",
          "PROJEK": "Taman Desa Kencana,Klang",
          "TARIKH_SEPATUT_SIAP": "21.3.2009",
          "TARIKH_TERBENGKALAI": "22.4.2014"
         },
         {
          "BIL_DIBINA": 29,
          "BIL_DIJUAL": 29,
          "Bil": 25,
          "NEGERI": "Selangor",
          "PEMAJU": "Suasana Ehsan (M) Sdn Bhd(digulung : 23.7.2014) - Augustin James & Co.",
          "PROJEK": "Lot 1919,Hulu Langat,",
          "TARIKH_SEPATUT_SIAP": "5.7.2008",
          "TARIKH_TERBENGKALAI": "18.9.2013"
         },
         {
          "BIL_DIBINA": 110,
          "BIL_DIJUAL": 40,
          "Bil": 26,
          "NEGERI": "Selangor",
          "PEMAJU": "Penchala Properties Sdn Bhd(digulung : 13.7.2015)'-            MDI WP. KL.",
          "PROJEK": "Taman Impian Langat,Hulu Langat,",
          "TARIKH_SEPATUT_SIAP": "11.7.2006",
          "TARIKH_TERBENGKALAI": "18.9.2013"
         },
         {
          "BIL_DIBINA": 84,
          "BIL_DIJUAL": 84,
          "Bil": 27,
          "NEGERI": "Selangor",
          "PEMAJU": "Chong Hin Development Sdn Bhd '(digulung : 6.12.2012 )'- StevenZac Consulting Sdn Bhd",
          "PROJEK": "Golden Village,      Klang",
          "TARIKH_SEPATUT_SIAP": "14.9.2009",
          "TARIKH_TERBENGKALAI": "18.9.2013"
         },
         {
          "BIL_DIBINA": 10,
          "BIL_DIJUAL": 10,
          "Bil": 28,
          "NEGERI": "Selangor",
          "PEMAJU": "Aras Dimensi Sdn Bhd (digulung : 5.1.2012)  StevenZac Consulting Sdn Bhd",
          "PROJEK": "Taman Desa Utama, Sepang",
          "TARIKH_SEPATUT_SIAP": "26.3.2010",
          "TARIKH_TERBENGKALAI": "1.12.2016"
         },
         {
          "BIL_DIBINA": 176,
          "BIL_DIJUAL": 170,
          "Bil": 29,
          "NEGERI": "Selangor",
          "PEMAJU": "Sedaya Sdn Bhd (digulung : 18.6.2010) \r\n- CRS Advisory Sdn Bhd",
          "PROJEK": "Taman Daya (Astana Square), Selayang",
          "TARIKH_SEPATUT_SIAP": null,
          "TARIKH_TERBENGKALAI": "1.12.2016"
         },
         {
          "BIL_DIBINA": 44,
          "BIL_DIJUAL": 40,
          "Bil": 30,
          "NEGERI": "Selangor",
          "PEMAJU": "Marl-One Development Sdn Bhd \r\n(digulung : 20.2.2014)'   \r\n- SL Ng Associates'Hotwer Development Sdn Bhd(digulung : 12.4.2012)' \r\n- KPMG Corporate",
          "PROJEK": "PK Villa, Klang",
          "TARIKH_SEPATUT_SIAP": "8.8.2003",
          "TARIKH_TERBENGKALAI": "1.12.2016"
         },
         {
          "BIL_DIBINA": 377,
          "BIL_DIJUAL": 310,
          "Bil": 31,
          "NEGERI": "Selangor",
          "PEMAJU": "Hotwer Development Sdn Bhd(digulung : 12.4.2012) - KPMG Corporate",
          "PROJEK": "The Boss, Klang",
          "TARIKH_SEPATUT_SIAP": "30.12.2013",
          "TARIKH_TERBENGKALAI": "1.12.2016"
         },
         {
          "BIL_DIBINA": 44,
          "BIL_DIJUAL": 44,
          "Bil": 32,
          "NEGERI": "Selangor",
          "PEMAJU": "SPS Setia Sdn Bhd (digulung : 18.5.2017) - Zakaria Augustine Kang \r\nPemaju penyelamat : Kompobina Holding",
          "PROJEK": "Taman Qismul Maya II, Shah Alam",
          "TARIKH_SEPATUT_SIAP": "5.11.2009",
          "TARIKH_TERBENGKALAI": "1.12.2016"
         },
         {
          "BIL_DIBINA": 23,
          "BIL_DIJUAL": 23,
          "Bil": 33,
          "NEGERI": "Selangor",
          "PEMAJU": "SPS Setia Sdn Bhd (digulung : 18.5.2017) - Zakaria Augustine Kang                                                \r\nPemaju Penyelamat : Setia Jutamas",
          "PROJEK": "Taman Qismul Maya III, Shah Alam",
          "TARIKH_SEPATUT_SIAP": "5.11.2009",
          "TARIKH_TERBENGKALAI": "1.12.2016"
         },
         {
          "BIL_DIBINA": 198,
          "BIL_DIJUAL": 161,
          "Bil": 34,
          "NEGERI": "Terengganu",
          "PEMAJU": "MME Realty & Management Sdn Bhd (Digulung : 12.01.2017)' - MDI Caw. KL        ",
          "PROJEK": "Taman Kemang Tiruk, Kuala Terengganu",
          "TARIKH_SEPATUT_SIAP": "2013",
          "TARIKH_TERBENGKALAI": "30.7.2015"
         },
         {
          "BIL_DIBINA": 12,
          "BIL_DIJUAL": 4,
          "Bil": 35,
          "NEGERI": "Terengganu",
          "PEMAJU": "Nusajaza Development Sdn Bhd (Digulung : 30.4.2017) - Kencana Corporate Advisory",
          "PROJEK": "Taman Kelulut Indah, Marang",
          "TARIKH_SEPATUT_SIAP": "2012",
          "TARIKH_TERBENGKALAI": "30.7.2015"
         },
         {
          "BIL_DIBINA": 109,
          "BIL_DIJUAL": 109,
          "Bil": 36,
          "NEGERI": "Terengganu",
          "PEMAJU": "Nusajaza Development Sdn Bhd (Digulung : 30.4.2017) - Kencana Corporate Advisory",
          "PROJEK": "Taman Dato' Ibrahim, Marang",
          "TARIKH_SEPATUT_SIAP": "6.12.2009",
          "TARIKH_TERBENGKALAI": "1.12.2016"
         }
        ]
       },
       "encoding": {
        "color": {
         "field": "PROJEK",
         "type": "nominal"
        },
        "x": {
         "field": "PEMAJU",
         "type": "nominal"
        },
        "y": {
         "field": "NEGERI",
         "type": "nominal"
        }
       },
       "mark": "point"
      },
      "image/png": "[encoded data removed]",
      "text/plain": [
       "<VegaLite 2 object>\n",
       "\n",
       "If you see this message, it means the renderer has not been properly enabled\n",
       "for the frontend that you are using. For more information, see\n",
       "https://altair-viz.github.io/user_guide/troubleshooting.html\n"
      ]
     },
     "execution_count": 56,
     "metadata": {},
     "output_type": "execute_result"
    }
   ],
   "source": [
    "alt.Chart(bob).mark_point().encode(\n",
    "    color='PROJEK',\n",
    "    x='PEMAJU',\n",
    "    y='NEGERI'\n",
    ")"
   ]
  },
  {
   "cell_type": "code",
   "execution_count": null,
   "metadata": {},
   "outputs": [],
   "source": []
  }
 ],
 "metadata": {
  "kernelspec": {
   "display_name": "Python 3",
   "language": "python",
   "name": "python3"
  },
  "language_info": {
   "codemirror_mode": {
    "name": "ipython",
    "version": 3
   },
   "file_extension": ".py",
   "mimetype": "text/x-python",
   "name": "python",
   "nbconvert_exporter": "python",
   "pygments_lexer": "ipython3",
   "version": "3.7.2"
  }
 },
 "nbformat": 4,
 "nbformat_minor": 2
}
